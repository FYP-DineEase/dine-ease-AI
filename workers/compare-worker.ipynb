{
 "cells": [
  {
   "cell_type": "markdown",
   "metadata": {},
   "source": [
    "## **Imports**\n"
   ]
  },
  {
   "cell_type": "code",
   "execution_count": 99,
   "metadata": {},
   "outputs": [],
   "source": [
    "import os\n",
    "import pprint\n",
    "import asyncio\n",
    "import aiohttp\n",
    "import requests\n",
    "import pandas as pd"
   ]
  },
  {
   "cell_type": "markdown",
   "metadata": {},
   "source": [
    "## **Verify Restaurant Reviews**"
   ]
  },
  {
   "cell_type": "markdown",
   "metadata": {},
   "source": [
    "#### **Modified Reviews Count**\n"
   ]
  },
  {
   "cell_type": "code",
   "execution_count": 135,
   "metadata": {},
   "outputs": [
    {
     "data": {
      "text/html": [
       "<div>\n",
       "<style scoped>\n",
       "    .dataframe tbody tr th:only-of-type {\n",
       "        vertical-align: middle;\n",
       "    }\n",
       "\n",
       "    .dataframe tbody tr th {\n",
       "        vertical-align: top;\n",
       "    }\n",
       "\n",
       "    .dataframe thead th {\n",
       "        text-align: right;\n",
       "    }\n",
       "</style>\n",
       "<table border=\"1\" class=\"dataframe\">\n",
       "  <thead>\n",
       "    <tr style=\"text-align: right;\">\n",
       "      <th></th>\n",
       "      <th>restaurant_id</th>\n",
       "      <th>review_count</th>\n",
       "      <th>total_rating</th>\n",
       "      <th>rating</th>\n",
       "    </tr>\n",
       "  </thead>\n",
       "  <tbody>\n",
       "    <tr>\n",
       "      <th>0</th>\n",
       "      <td>65eda330d745307cb1a92556</td>\n",
       "      <td>24</td>\n",
       "      <td>108.0</td>\n",
       "      <td>4.5</td>\n",
       "    </tr>\n",
       "    <tr>\n",
       "      <th>1</th>\n",
       "      <td>65eda331d745307cb1a9255b</td>\n",
       "      <td>14</td>\n",
       "      <td>45.0</td>\n",
       "      <td>3.2</td>\n",
       "    </tr>\n",
       "    <tr>\n",
       "      <th>2</th>\n",
       "      <td>65eda332d745307cb1a92560</td>\n",
       "      <td>12</td>\n",
       "      <td>21.0</td>\n",
       "      <td>1.8</td>\n",
       "    </tr>\n",
       "    <tr>\n",
       "      <th>3</th>\n",
       "      <td>65eda332d745307cb1a92565</td>\n",
       "      <td>27</td>\n",
       "      <td>79.0</td>\n",
       "      <td>2.9</td>\n",
       "    </tr>\n",
       "    <tr>\n",
       "      <th>4</th>\n",
       "      <td>65eda333d745307cb1a9256a</td>\n",
       "      <td>36</td>\n",
       "      <td>170.0</td>\n",
       "      <td>4.7</td>\n",
       "    </tr>\n",
       "    <tr>\n",
       "      <th>...</th>\n",
       "      <td>...</td>\n",
       "      <td>...</td>\n",
       "      <td>...</td>\n",
       "      <td>...</td>\n",
       "    </tr>\n",
       "    <tr>\n",
       "      <th>4995</th>\n",
       "      <td>65edaec2d745307cb1a986e5</td>\n",
       "      <td>107</td>\n",
       "      <td>415.0</td>\n",
       "      <td>3.9</td>\n",
       "    </tr>\n",
       "    <tr>\n",
       "      <th>4996</th>\n",
       "      <td>65edaec3d745307cb1a986ea</td>\n",
       "      <td>64</td>\n",
       "      <td>165.0</td>\n",
       "      <td>2.6</td>\n",
       "    </tr>\n",
       "    <tr>\n",
       "      <th>4997</th>\n",
       "      <td>65edaec3d745307cb1a986ef</td>\n",
       "      <td>67</td>\n",
       "      <td>250.0</td>\n",
       "      <td>3.7</td>\n",
       "    </tr>\n",
       "    <tr>\n",
       "      <th>4998</th>\n",
       "      <td>65edaec4d745307cb1a986f4</td>\n",
       "      <td>31</td>\n",
       "      <td>86.0</td>\n",
       "      <td>2.8</td>\n",
       "    </tr>\n",
       "    <tr>\n",
       "      <th>4999</th>\n",
       "      <td>65edaec4d745307cb1a986f9</td>\n",
       "      <td>16</td>\n",
       "      <td>63.0</td>\n",
       "      <td>3.9</td>\n",
       "    </tr>\n",
       "  </tbody>\n",
       "</table>\n",
       "<p>5000 rows × 4 columns</p>\n",
       "</div>"
      ],
      "text/plain": [
       "                 restaurant_id  review_count  total_rating  rating\n",
       "0     65eda330d745307cb1a92556            24         108.0     4.5\n",
       "1     65eda331d745307cb1a9255b            14          45.0     3.2\n",
       "2     65eda332d745307cb1a92560            12          21.0     1.8\n",
       "3     65eda332d745307cb1a92565            27          79.0     2.9\n",
       "4     65eda333d745307cb1a9256a            36         170.0     4.7\n",
       "...                        ...           ...           ...     ...\n",
       "4995  65edaec2d745307cb1a986e5           107         415.0     3.9\n",
       "4996  65edaec3d745307cb1a986ea            64         165.0     2.6\n",
       "4997  65edaec3d745307cb1a986ef            67         250.0     3.7\n",
       "4998  65edaec4d745307cb1a986f4            31          86.0     2.8\n",
       "4999  65edaec4d745307cb1a986f9            16          63.0     3.9\n",
       "\n",
       "[5000 rows x 4 columns]"
      ]
     },
     "execution_count": 135,
     "metadata": {},
     "output_type": "execute_result"
    }
   ],
   "source": [
    "reviews_df = pd.read_csv('../data/modified_reviews.csv')\n",
    "\n",
    "modified_review_counts = reviews_df.groupby(\"restaurant_id\").agg(\n",
    "    review_count=(\"rating\", \"size\"),\n",
    "    total_rating=(\"rating\", \"sum\")\n",
    ").reset_index()\n",
    "\n",
    "modified_review_counts[\"rating\"] = (modified_review_counts[\"total_rating\"] / modified_review_counts[\"review_count\"]).round(1)\n",
    "\n",
    "modified_review_counts"
   ]
  },
  {
   "cell_type": "code",
   "execution_count": 136,
   "metadata": {},
   "outputs": [
    {
     "data": {
      "text/html": [
       "<div>\n",
       "<style scoped>\n",
       "    .dataframe tbody tr th:only-of-type {\n",
       "        vertical-align: middle;\n",
       "    }\n",
       "\n",
       "    .dataframe tbody tr th {\n",
       "        vertical-align: top;\n",
       "    }\n",
       "\n",
       "    .dataframe thead th {\n",
       "        text-align: right;\n",
       "    }\n",
       "</style>\n",
       "<table border=\"1\" class=\"dataframe\">\n",
       "  <thead>\n",
       "    <tr style=\"text-align: right;\">\n",
       "      <th></th>\n",
       "      <th>restaurant_id</th>\n",
       "      <th>review_count</th>\n",
       "      <th>total_rating</th>\n",
       "      <th>rating</th>\n",
       "    </tr>\n",
       "  </thead>\n",
       "  <tbody>\n",
       "    <tr>\n",
       "      <th>4576</th>\n",
       "      <td>65edadc8d745307cb1a97eb6</td>\n",
       "      <td>33</td>\n",
       "      <td>71.0</td>\n",
       "      <td>2.2</td>\n",
       "    </tr>\n",
       "  </tbody>\n",
       "</table>\n",
       "</div>"
      ],
      "text/plain": [
       "                 restaurant_id  review_count  total_rating  rating\n",
       "4576  65edadc8d745307cb1a97eb6            33          71.0     2.2"
      ]
     },
     "execution_count": 136,
     "metadata": {},
     "output_type": "execute_result"
    }
   ],
   "source": [
    "modified_review_counts.loc[modified_review_counts['restaurant_id'] == '65edadc8d745307cb1a97eb6']"
   ]
  },
  {
   "cell_type": "markdown",
   "metadata": {},
   "source": [
    "#### **Restaurant Reviews Count**\n"
   ]
  },
  {
   "cell_type": "code",
   "execution_count": 137,
   "metadata": {},
   "outputs": [],
   "source": [
    "restaurant_reviews_df_db = pd.read_csv('../compare/restaurants.reviews.csv')\n",
    "\n",
    "restaurant_review_db_counts = restaurant_reviews_df_db.groupby(\"restaurantId\").agg(\n",
    "    review_count=(\"rating\", \"size\"),\n",
    "    total_rating=(\"rating\", \"sum\")\n",
    ").reset_index()\n",
    "\n",
    "restaurant_review_db_counts[\"rating\"] = (restaurant_review_db_counts[\"total_rating\"] / restaurant_review_db_counts[\"review_count\"]).round(1)"
   ]
  },
  {
   "cell_type": "markdown",
   "metadata": {},
   "source": [
    "#### **Reviews Count**\n"
   ]
  },
  {
   "cell_type": "code",
   "execution_count": 138,
   "metadata": {},
   "outputs": [],
   "source": [
    "reviews_df_db = pd.read_csv('../compare/reviews.reviews.csv')\n",
    "\n",
    "review_db_counts = reviews_df_db.groupby(\"restaurantId\").agg(\n",
    "    review_count=(\"rating\", \"size\"),\n",
    "    total_rating=(\"rating\", \"sum\")\n",
    ").reset_index()\n",
    "\n",
    "review_db_counts[\"rating\"] = (review_db_counts[\"total_rating\"] / review_db_counts[\"review_count\"]).round(1)"
   ]
  },
  {
   "cell_type": "markdown",
   "metadata": {},
   "source": [
    "#### **Comparing Modified Reviews with Reviews**\n"
   ]
  },
  {
   "cell_type": "code",
   "execution_count": 103,
   "metadata": {},
   "outputs": [
    {
     "name": "stdout",
     "output_type": "stream",
     "text": [
      "Count: 0.\n"
     ]
    }
   ],
   "source": [
    "count = 0\n",
    "\n",
    "for index, row in modified_review_counts.iterrows():\n",
    "    id = row['restaurant_id']\n",
    "    review_count_db = row['review_count']\n",
    "    review_rating_db = row['rating']\n",
    "    \n",
    "    registered_row = review_db_counts.loc[review_db_counts['restaurantId'] == id]\n",
    "    \n",
    "    if len(registered_row) != 1:\n",
    "        print(f\"Restaurant with Id {id} not found.\")\n",
    "        break\n",
    "    \n",
    "    data = registered_row.iloc[0]\n",
    "    \n",
    "    if (review_count_db != data['review_count'] or review_rating_db != data['rating']):\n",
    "        count += 1\n",
    "        print(f\"Count is not equal: {id}. In DB: {review_count_db}, found: {data['review_count']}\")\n",
    "\n",
    "print(f\"Count: {count}.\")"
   ]
  },
  {
   "cell_type": "markdown",
   "metadata": {},
   "source": [
    "#### **Comparing Modified Reviews with Restaurant Reviews**\n"
   ]
  },
  {
   "cell_type": "code",
   "execution_count": 104,
   "metadata": {},
   "outputs": [
    {
     "name": "stdout",
     "output_type": "stream",
     "text": [
      "Count: 0.\n"
     ]
    }
   ],
   "source": [
    "count = 0\n",
    "\n",
    "for index, row in modified_review_counts.iterrows():\n",
    "    id = row['restaurant_id']\n",
    "    review_count_db = row['review_count']\n",
    "    review_rating_db = row['rating']\n",
    "    \n",
    "    registered_row = restaurant_review_db_counts.loc[restaurant_review_db_counts['restaurantId'] == id]\n",
    "    \n",
    "    if len(registered_row) != 1:\n",
    "        print(f\"Restaurant with Id {id} not found.\")\n",
    "        break\n",
    "    \n",
    "    data = registered_row.iloc[0]\n",
    "    \n",
    "    if (review_count_db != data['review_count'] or review_rating_db != data['rating']):\n",
    "        count += 1\n",
    "        print(f\"Count is not equal: {id}. In DB: {review_count_db}, found: {data['review_count']}\")\n",
    "\n",
    "print(f\"Count: {count}.\")"
   ]
  },
  {
   "cell_type": "code",
   "execution_count": 105,
   "metadata": {},
   "outputs": [
    {
     "name": "stdout",
     "output_type": "stream",
     "text": [
      "Extra values: 0\n"
     ]
    }
   ],
   "source": [
    "print(f'Extra values: {len(restaurant_reviews_df_db) - len(reviews_df)}')"
   ]
  },
  {
   "cell_type": "code",
   "execution_count": 139,
   "metadata": {},
   "outputs": [
    {
     "data": {
      "text/plain": [
       "(0, 7)"
      ]
     },
     "execution_count": 139,
     "metadata": {},
     "output_type": "execute_result"
    }
   ],
   "source": [
    "# Filter out rows where isDeleted is True\n",
    "df1 = restaurant_reviews_df_db[restaurant_reviews_df_db['isDeleted'] == False]\n",
    "df_filtered = df1[~df1['_id'].isin(reviews_df['id'].tolist())]\n",
    "df_filtered.shape"
   ]
  },
  {
   "cell_type": "code",
   "execution_count": 140,
   "metadata": {},
   "outputs": [
    {
     "data": {
      "text/plain": [
       "[]"
      ]
     },
     "execution_count": 140,
     "metadata": {},
     "output_type": "execute_result"
    }
   ],
   "source": [
    "id_array = df_filtered['_id'].values.tolist()\n",
    "id_array"
   ]
  },
  {
   "cell_type": "markdown",
   "metadata": {},
   "source": [
    "## **Verify Restaurant Rating**"
   ]
  },
  {
   "cell_type": "code",
   "execution_count": 141,
   "metadata": {},
   "outputs": [
    {
     "name": "stdout",
     "output_type": "stream",
     "text": [
      "Map Restaurants: 5000\n",
      "Dining Restaurants: 5000\n",
      "Restaurants: 5000\n"
     ]
    }
   ],
   "source": [
    "map_restaurants = pd.read_csv('../compare/map.restaurants.csv', encoding='latin-1')\n",
    "dining_restaurants = pd.read_csv('../compare/dining-plans.restaurants.csv', encoding='latin-1')\n",
    "restaurants_df = pd.read_csv('../compare/restaurants.restaurants.csv', encoding='latin-1')\n",
    "\n",
    "print(f'Map Restaurants: {len(map_restaurants)}')\n",
    "print(f'Dining Restaurants: {len(dining_restaurants)}')\n",
    "print(f'Restaurants: {len(restaurants_df)}')"
   ]
  },
  {
   "cell_type": "markdown",
   "metadata": {},
   "source": [
    "#### **Comparing Map Restaurants with Rating**\n"
   ]
  },
  {
   "cell_type": "code",
   "execution_count": 132,
   "metadata": {},
   "outputs": [
    {
     "name": "stdout",
     "output_type": "stream",
     "text": [
      "Result Array Length: 0\n",
      "Result Array: []\n"
     ]
    }
   ],
   "source": [
    "result_array = []\n",
    "\n",
    "for index, row in map_restaurants.iterrows():\n",
    "    id = row['_id']\n",
    "    review_count_db = row['count']\n",
    "    review_rating_db = row['rating']\n",
    "    \n",
    "    registered_row = modified_review_counts.loc[modified_review_counts['restaurant_id'] == id]\n",
    "    \n",
    "    if len(registered_row) != 1:\n",
    "        print(f\"Restaurant with Id {id} not found.\")\n",
    "        break\n",
    "    \n",
    "    data = registered_row.iloc[0]\n",
    "    \n",
    "    if (review_count_db != data['review_count'] or review_rating_db != data['rating']):\n",
    "        print(f\"Rating is not equal: {id}. In DB: {review_rating_db}, found: {data['rating']}\")\n",
    "\n",
    "        result_array.append({\n",
    "            'id': id,\n",
    "            'count': data['review_count'],\n",
    "            'rating': data['rating']\n",
    "        })\n",
    "\n",
    "print(\"Result Array Length:\", len(result_array))\n",
    "print(\"Result Array:\", result_array)"
   ]
  },
  {
   "cell_type": "markdown",
   "metadata": {},
   "source": [
    "#### **Comparing Dining Restaurants with Rating**\n"
   ]
  },
  {
   "cell_type": "code",
   "execution_count": 133,
   "metadata": {},
   "outputs": [
    {
     "name": "stdout",
     "output_type": "stream",
     "text": [
      "Result Array Length: 0\n",
      "Result Array: []\n"
     ]
    }
   ],
   "source": [
    "result_array = []\n",
    "\n",
    "for index, row in dining_restaurants.iterrows():\n",
    "    id = row['_id']\n",
    "    review_count_db = row['count']\n",
    "    review_rating_db = row['rating']\n",
    "    \n",
    "    registered_row = modified_review_counts.loc[modified_review_counts['restaurant_id'] == id]\n",
    "    \n",
    "    if len(registered_row) != 1:\n",
    "        print(f\"Restaurant with Id {id} not found.\")\n",
    "        break\n",
    "    \n",
    "    data = registered_row.iloc[0]\n",
    "    \n",
    "    if (review_count_db != data['review_count'] or review_rating_db != data['rating']):\n",
    "        print(f\"Rating is not equal: {id}. In DB: {review_rating_db}, found: {data['rating']}\")\n",
    "\n",
    "        result_array.append({\n",
    "            'id': id,\n",
    "            'count': data['review_count'],\n",
    "            'rating': data['rating']\n",
    "        })\n",
    "\n",
    "print(\"Result Array Length:\", len(result_array))\n",
    "print(\"Result Array:\", result_array)"
   ]
  },
  {
   "cell_type": "markdown",
   "metadata": {},
   "source": [
    "#### **Comparing Restaurants with Rating**\n"
   ]
  },
  {
   "cell_type": "code",
   "execution_count": 134,
   "metadata": {},
   "outputs": [
    {
     "name": "stdout",
     "output_type": "stream",
     "text": [
      "Result Array Length: 0\n",
      "Result Array: []\n"
     ]
    }
   ],
   "source": [
    "count = 0\n",
    "\n",
    "for index, row in restaurants_df.iterrows():\n",
    "    id = row['_id']\n",
    "    review_count_db = row['count']\n",
    "    \n",
    "    registered_row = modified_review_counts.loc[modified_review_counts['restaurant_id'] == id]\n",
    "    \n",
    "    if len(registered_row) != 1:\n",
    "        print(f\"Restaurant with Id {id} not found.\")\n",
    "        break\n",
    "    \n",
    "    data = registered_row.iloc[0]\n",
    "    \n",
    "    if (review_count_db != data['review_count']):\n",
    "\n",
    "        result_array.append({\n",
    "            'id': id,\n",
    "            'count': data['review_count'],\n",
    "            'rating': data['rating']\n",
    "        })\n",
    "\n",
    "print(\"Result Array Length:\", len(result_array))\n",
    "print(\"Result Array:\", result_array)"
   ]
  }
 ],
 "metadata": {
  "kernelspec": {
   "display_name": "Python 3",
   "language": "python",
   "name": "python3"
  },
  "language_info": {
   "codemirror_mode": {
    "name": "ipython",
    "version": 3
   },
   "file_extension": ".py",
   "mimetype": "text/x-python",
   "name": "python",
   "nbconvert_exporter": "python",
   "pygments_lexer": "ipython3",
   "version": "3.11.5"
  }
 },
 "nbformat": 4,
 "nbformat_minor": 2
}
