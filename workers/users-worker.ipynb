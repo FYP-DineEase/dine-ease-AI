{
 "cells": [
  {
   "cell_type": "markdown",
   "metadata": {},
   "source": [
    "## **Imports**\n"
   ]
  },
  {
   "cell_type": "code",
   "execution_count": 1,
   "metadata": {},
   "outputs": [
    {
     "name": "stderr",
     "output_type": "stream",
     "text": [
      "C:\\Users\\mujta\\AppData\\Local\\Temp\\ipykernel_13996\\3328425563.py:6: DeprecationWarning: \n",
      "Pyarrow will become a required dependency of pandas in the next major release of pandas (pandas 3.0),\n",
      "(to allow more performant data types, such as the Arrow string type, and better interoperability with other libraries)\n",
      "but was not found to be installed on your system.\n",
      "If this would cause problems for you,\n",
      "please provide us feedback at https://github.com/pandas-dev/pandas/issues/54466\n",
      "        \n",
      "  import pandas as pd\n"
     ]
    }
   ],
   "source": [
    "import os\n",
    "import time\n",
    "import pprint\n",
    "import asyncio\n",
    "import aiohttp\n",
    "import pandas as pd"
   ]
  },
  {
   "cell_type": "markdown",
   "metadata": {},
   "source": [
    "## **Required Users**\n"
   ]
  },
  {
   "cell_type": "code",
   "execution_count": 2,
   "metadata": {},
   "outputs": [
    {
     "data": {
      "text/plain": [
       "493532"
      ]
     },
     "execution_count": 2,
     "metadata": {},
     "output_type": "execute_result"
    }
   ],
   "source": [
    "reviews_users = pd.read_csv('../data/reviews.csv', encoding='latin-1').groupby('user_id')\n",
    "len(reviews_users)"
   ]
  },
  {
   "cell_type": "code",
   "execution_count": 3,
   "metadata": {},
   "outputs": [
    {
     "data": {
      "text/plain": [
       "7883"
      ]
     },
     "execution_count": 3,
     "metadata": {},
     "output_type": "execute_result"
    }
   ],
   "source": [
    "restaurant_users = pd.read_csv('../data/restaurants.csv', encoding='latin-1').head(10000).groupby('name')\n",
    "len(restaurant_users)"
   ]
  },
  {
   "cell_type": "code",
   "execution_count": 4,
   "metadata": {},
   "outputs": [
    {
     "name": "stdout",
     "output_type": "stream",
     "text": [
      "Total Users Required: 501415\n"
     ]
    }
   ],
   "source": [
    "required_users = len(restaurant_users) + len(reviews_users)\n",
    "print(f'Total Users Required: {required_users}')"
   ]
  },
  {
   "cell_type": "markdown",
   "metadata": {},
   "source": [
    "## **Workers**\n"
   ]
  },
  {
   "cell_type": "code",
   "execution_count": 5,
   "metadata": {},
   "outputs": [],
   "source": [
    "users_dict = {}\n",
    "users_df = pd.DataFrame()"
   ]
  },
  {
   "cell_type": "code",
   "execution_count": 6,
   "metadata": {},
   "outputs": [
    {
     "name": "stdout",
     "output_type": "stream",
     "text": [
      "Current Users: 501415\n"
     ]
    }
   ],
   "source": [
    "users_file = '../data/un_registered_users.csv'\n",
    "\n",
    "if os.path.exists(users_file):\n",
    "    users_df = pd.read_csv(users_file)\n",
    "    \n",
    "    print(f'Current Users: {len(users_df)}')\n",
    "\n",
    "    if len(users_df) > required_users:\n",
    "        users_df = users_df.head(required_users) \n",
    "        users_df.to_csv(users_file, index=False)\n",
    "        print(f'Sliced users to : {len(users_df)}')\n",
    "    "
   ]
  },
  {
   "cell_type": "code",
   "execution_count": 7,
   "metadata": {},
   "outputs": [],
   "source": [
    "for index, row in users_df.iterrows():\n",
    "    users_dict[row[\"email\"]] = row[\"email\"]"
   ]
  },
  {
   "cell_type": "code",
   "execution_count": 8,
   "metadata": {},
   "outputs": [
    {
     "data": {
      "text/plain": [
       "501415"
      ]
     },
     "execution_count": 8,
     "metadata": {},
     "output_type": "execute_result"
    }
   ],
   "source": [
    "len(users_dict)"
   ]
  },
  {
   "cell_type": "markdown",
   "metadata": {},
   "source": [
    "### **Validate User**\n"
   ]
  },
  {
   "cell_type": "code",
   "execution_count": 9,
   "metadata": {},
   "outputs": [],
   "source": [
    "async def validate_user(user):    \n",
    "    if user is None:\n",
    "        print(\"No user fetched. Retrying...\")\n",
    "        return\n",
    "        \n",
    "    email = user['email']\n",
    "            \n",
    "    if users_dict.get(email):\n",
    "        print(email, \"is duplicated\")\n",
    "        return\n",
    "            \n",
    "    else:\n",
    "        users_dict[email] = user"
   ]
  },
  {
   "cell_type": "markdown",
   "metadata": {},
   "source": [
    "### **Generate User**\n"
   ]
  },
  {
   "cell_type": "markdown",
   "metadata": {},
   "source": [
    "#### **Radom User Api**\n"
   ]
  },
  {
   "cell_type": "code",
   "execution_count": 10,
   "metadata": {},
   "outputs": [],
   "source": [
    "async def fetch_random_user(session):\n",
    "    async with session.get('https://randomuser.me/api/?inc=name,email&nat=us,gb,ca,ie,nz,au,fi,ie&results=5000') as response:\n",
    "        data = await response.json()\n",
    "        results = data['results']\n",
    "        for user_data in results:\n",
    "            user = {\n",
    "                \"firstName\": user_data['name']['first'],\n",
    "                \"lastName\": user_data['name']['last'],\n",
    "                \"email\": user_data['email'],\n",
    "            }\n",
    "            await validate_user(user)\n",
    "\n",
    "async def main():\n",
    "    iterations = 2\n",
    "    async with aiohttp.ClientSession() as session:\n",
    "        for _ in range(iterations):\n",
    "            await fetch_random_user(session)\n",
    "\n",
    "if len(users_df) < required_users:\n",
    "    await main()"
   ]
  },
  {
   "cell_type": "markdown",
   "metadata": {},
   "source": [
    "#### **Radom Data User Api**\n"
   ]
  },
  {
   "cell_type": "code",
   "execution_count": 11,
   "metadata": {},
   "outputs": [],
   "source": [
    "async def fetch_random_data_user(session):\n",
    "    async with session.get('https://random-data-api.com/api/v2/users?size=100') as response:\n",
    "        data = await response.json()\n",
    "        for user_data in data:\n",
    "            user = {\n",
    "                \"firstName\": user_data['first_name'],\n",
    "                \"lastName\": user_data['last_name'],\n",
    "                \"email\": user_data['email'],\n",
    "            }\n",
    "            await validate_user(user)\n",
    "            \n",
    "async def main():\n",
    "    iterations = 10\n",
    "    # iterations = 500\n",
    "    async with aiohttp.ClientSession() as session:\n",
    "        tasks = []\n",
    "        for _ in range(iterations):\n",
    "            tasks.append(fetch_random_data_user(session))\n",
    "        await asyncio.gather(*tasks)\n",
    "\n",
    "if len(users_df) < required_users:\n",
    "    await main()"
   ]
  },
  {
   "cell_type": "code",
   "execution_count": 12,
   "metadata": {},
   "outputs": [],
   "source": [
    "if len(users_df) < required_users:\n",
    "    print(\"Rewriting Dataframe due to New Users\")\n",
    "    users_df = pd.DataFrame.from_dict(users_dict, orient='index')\n",
    "    users_df = users_df[['firstName', 'lastName', 'email']]\n",
    "    users_df.to_csv('../data/un_registered_users.csv', index=False)\n"
   ]
  },
  {
   "cell_type": "code",
   "execution_count": 13,
   "metadata": {},
   "outputs": [
    {
     "data": {
      "text/html": [
       "<div>\n",
       "<style scoped>\n",
       "    .dataframe tbody tr th:only-of-type {\n",
       "        vertical-align: middle;\n",
       "    }\n",
       "\n",
       "    .dataframe tbody tr th {\n",
       "        vertical-align: top;\n",
       "    }\n",
       "\n",
       "    .dataframe thead th {\n",
       "        text-align: right;\n",
       "    }\n",
       "</style>\n",
       "<table border=\"1\" class=\"dataframe\">\n",
       "  <thead>\n",
       "    <tr style=\"text-align: right;\">\n",
       "      <th></th>\n",
       "      <th>firstName</th>\n",
       "      <th>lastName</th>\n",
       "      <th>email</th>\n",
       "    </tr>\n",
       "  </thead>\n",
       "  <tbody>\n",
       "  </tbody>\n",
       "</table>\n",
       "</div>"
      ],
      "text/plain": [
       "Empty DataFrame\n",
       "Columns: [firstName, lastName, email]\n",
       "Index: []"
      ]
     },
     "execution_count": 13,
     "metadata": {},
     "output_type": "execute_result"
    }
   ],
   "source": [
    "duplicates_df = users_df[users_df.duplicated(subset=['email'], keep=False)]\n",
    "duplicates_df"
   ]
  },
  {
   "cell_type": "markdown",
   "metadata": {},
   "source": [
    "### **Switch between restaurant owner and review creators**"
   ]
  },
  {
   "cell_type": "code",
   "execution_count": 14,
   "metadata": {},
   "outputs": [
    {
     "name": "stdout",
     "output_type": "stream",
     "text": [
      "Total Restaurant Users: 7883\n",
      "Total Review Users: 493532\n",
      "493532\n"
     ]
    }
   ],
   "source": [
    "registered_users = {}\n",
    "\n",
    "# Manager or User\n",
    "role = \"User\"\n",
    "\n",
    "registered_users_file = ''\n",
    "unregistered_users_df = pd.DataFrame()\n",
    "\n",
    "print(\"Total Restaurant Users:\", len(restaurant_users))\n",
    "print(\"Total Review Users:\", len(reviews_users))\n",
    "\n",
    "if role == \"Manager\":\n",
    "    registered_users_file = '../data/restaurant_owners.csv'\n",
    "    unregistered_users_df = users_df.iloc[:len(restaurant_users)]\n",
    "else:\n",
    "    registered_users_file = '../data/review_users.csv'\n",
    "    unregistered_users_df = users_df.iloc[len(restaurant_users):]\n",
    "\n",
    "print(len(unregistered_users_df))"
   ]
  },
  {
   "cell_type": "code",
   "execution_count": 15,
   "metadata": {},
   "outputs": [
    {
     "name": "stdout",
     "output_type": "stream",
     "text": [
      "(280531, 3)\n"
     ]
    },
    {
     "data": {
      "text/html": [
       "<div>\n",
       "<style scoped>\n",
       "    .dataframe tbody tr th:only-of-type {\n",
       "        vertical-align: middle;\n",
       "    }\n",
       "\n",
       "    .dataframe tbody tr th {\n",
       "        vertical-align: top;\n",
       "    }\n",
       "\n",
       "    .dataframe thead th {\n",
       "        text-align: right;\n",
       "    }\n",
       "</style>\n",
       "<table border=\"1\" class=\"dataframe\">\n",
       "  <thead>\n",
       "    <tr style=\"text-align: right;\">\n",
       "      <th></th>\n",
       "      <th>firstName</th>\n",
       "      <th>lastName</th>\n",
       "      <th>email</th>\n",
       "    </tr>\n",
       "  </thead>\n",
       "  <tbody>\n",
       "    <tr>\n",
       "      <th>220884</th>\n",
       "      <td>Aretha</td>\n",
       "      <td>Jacobi</td>\n",
       "      <td>aretha.jacobi@email.com</td>\n",
       "    </tr>\n",
       "  </tbody>\n",
       "</table>\n",
       "</div>"
      ],
      "text/plain": [
       "       firstName lastName                    email\n",
       "220884    Aretha   Jacobi  aretha.jacobi@email.com"
      ]
     },
     "execution_count": 15,
     "metadata": {},
     "output_type": "execute_result"
    }
   ],
   "source": [
    "if os.path.exists(registered_users_file):\n",
    "    dataframe = pd.read_csv(registered_users_file)\n",
    "\n",
    "    for index, row in dataframe.iterrows():\n",
    "        user_details = {\n",
    "            \"id\": row.get(\"id\", None),\n",
    "            \"firstName\": row.get(\"firstName\", None),\n",
    "            \"lastName\": row.get(\"lastName\", None),\n",
    "            \"email\": row.get(\"email\", None),\n",
    "            \"role\": row.get(\"role\", None),\n",
    "            \"token\": row.get(\"token\", None),\n",
    "        }\n",
    "        registered_users[row['email']] = user_details\n",
    "    \n",
    "    unregistered_users_df = unregistered_users_df.iloc[len(dataframe):]\n",
    "\n",
    "print(unregistered_users_df.shape)\n",
    "unregistered_users_df.head(1)"
   ]
  },
  {
   "cell_type": "code",
   "execution_count": 16,
   "metadata": {},
   "outputs": [
    {
     "data": {
      "text/plain": [
       "213001"
      ]
     },
     "execution_count": 16,
     "metadata": {},
     "output_type": "execute_result"
    }
   ],
   "source": [
    "len(registered_users)"
   ]
  },
  {
   "cell_type": "code",
   "execution_count": 17,
   "metadata": {},
   "outputs": [
    {
     "data": {
      "text/plain": [
       "'User'"
      ]
     },
     "execution_count": 17,
     "metadata": {},
     "output_type": "execute_result"
    }
   ],
   "source": [
    "role"
   ]
  },
  {
   "cell_type": "code",
   "execution_count": 18,
   "metadata": {},
   "outputs": [],
   "source": [
    "async def insert_user(session, index, row):\n",
    "    \n",
    "    email = row['email']\n",
    "    \n",
    "    user = {\n",
    "        \"firstName\": row['firstName'],\n",
    "        \"lastName\": row['lastName'],\n",
    "        \"email\": email,\n",
    "        \"password\": \"Mujtaba@123\",\n",
    "        \"role\": role,\n",
    "    }\n",
    "    \n",
    "    async with session.post('http://dine-ease.dev/api/auth/register', json=user, headers={'Content-Type': 'application/json'}) as response:\n",
    "        \n",
    "        if response.status == 201:\n",
    "            user_data = await response.json()\n",
    "            \n",
    "            user.pop(\"password\", None)\n",
    "            user_data = {'id': user_data['id'], 'token': user_data['token']}\n",
    "            registered_users[email] = {**user, **user_data}\n",
    "                        \n",
    "        else:    \n",
    "            pprint.pprint(f\"Request failed for {email}. Status code: {response.status}\")\n",
    "            pprint.pprint(await response.text())\n",
    "\n",
    "async def main():\n",
    "    async with aiohttp.ClientSession() as session:\n",
    "        batch_size = 10\n",
    "        num_batches = 8000\n",
    "        \n",
    "        for i in range(0, len(unregistered_users_df), batch_size):\n",
    "            batch_tasks = [insert_user(session, index, row) for index, row in unregistered_users_df.iloc[i:i+batch_size].iterrows()]\n",
    "            await asyncio.gather(*batch_tasks)\n",
    "            \n",
    "            dataframe = pd.DataFrame.from_dict({key: value for key, value in registered_users.items() if value['token'] is not None}, orient='index')\n",
    "            dataframe = dataframe[['id', 'firstName', 'lastName', 'email', 'role', 'token']]\n",
    "            dataframe.to_csv(registered_users_file, index=False)\n",
    "            \n",
    "            num_batches -= 1\n",
    "            if num_batches == 0:\n",
    "                break\n",
    "\n",
    "if len(unregistered_users_df) != 0:\n",
    "    await main()"
   ]
  }
 ],
 "metadata": {
  "kernelspec": {
   "display_name": "Python 3",
   "language": "python",
   "name": "python3"
  },
  "language_info": {
   "codemirror_mode": {
    "name": "ipython",
    "version": 3
   },
   "file_extension": ".py",
   "mimetype": "text/x-python",
   "name": "python",
   "nbconvert_exporter": "python",
   "pygments_lexer": "ipython3",
   "version": "3.11.5"
  }
 },
 "nbformat": 4,
 "nbformat_minor": 2
}
