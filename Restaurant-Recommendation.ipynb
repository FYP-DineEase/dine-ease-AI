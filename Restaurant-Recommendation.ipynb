{
 "cells": [
  {
   "cell_type": "markdown",
   "metadata": {},
   "source": [
    "## **Imports**\n"
   ]
  },
  {
   "cell_type": "code",
   "execution_count": 350,
   "metadata": {},
   "outputs": [],
   "source": [
    "import json\n",
    "import folium\n",
    "import numpy as np\n",
    "import pandas as pd\n",
    "import seaborn as sns\n",
    "import matplotlib.pyplot as plt\n",
    "from wordcloud import WordCloud\n",
    "from geopy.geocoders import Nominatim\n",
    "from IPython.display import display, HTML\n",
    "from sklearn.metrics.pairwise import linear_kernel\n",
    "from sklearn.feature_extraction.text import TfidfVectorizer"
   ]
  },
  {
   "cell_type": "markdown",
   "metadata": {},
   "source": [
    "## **Overriding Defaults**\n"
   ]
  },
  {
   "cell_type": "code",
   "execution_count": 351,
   "metadata": {},
   "outputs": [],
   "source": [
    "pd.set_option('display.max_rows', 20)"
   ]
  },
  {
   "cell_type": "markdown",
   "metadata": {},
   "source": [
    "# **<div align=\"center\">`Business Dataset`</div>**"
   ]
  },
  {
   "cell_type": "markdown",
   "metadata": {},
   "source": [
    "## **Loading Dataset**\n"
   ]
  },
  {
   "cell_type": "code",
   "execution_count": 352,
   "metadata": {},
   "outputs": [],
   "source": [
    "data_file = open(\"./data/yelp_academic_dataset_business.json\", encoding=\"utf-8\")\n",
    "\n",
    "data = []\n",
    "\n",
    "for line in data_file:\n",
    "  data.append(json.loads(line))\n",
    "\n",
    "businessDf = pd.DataFrame(data)"
   ]
  },
  {
   "cell_type": "code",
   "execution_count": 353,
   "metadata": {},
   "outputs": [
    {
     "data": {
      "text/html": [
       "<div>\n",
       "<style scoped>\n",
       "    .dataframe tbody tr th:only-of-type {\n",
       "        vertical-align: middle;\n",
       "    }\n",
       "\n",
       "    .dataframe tbody tr th {\n",
       "        vertical-align: top;\n",
       "    }\n",
       "\n",
       "    .dataframe thead th {\n",
       "        text-align: right;\n",
       "    }\n",
       "</style>\n",
       "<table border=\"1\" class=\"dataframe\">\n",
       "  <thead>\n",
       "    <tr style=\"text-align: right;\">\n",
       "      <th></th>\n",
       "      <th>business_id</th>\n",
       "      <th>name</th>\n",
       "      <th>address</th>\n",
       "      <th>city</th>\n",
       "      <th>state</th>\n",
       "      <th>postal_code</th>\n",
       "      <th>latitude</th>\n",
       "      <th>longitude</th>\n",
       "      <th>stars</th>\n",
       "      <th>review_count</th>\n",
       "      <th>is_open</th>\n",
       "      <th>attributes</th>\n",
       "      <th>categories</th>\n",
       "      <th>hours</th>\n",
       "    </tr>\n",
       "  </thead>\n",
       "  <tbody>\n",
       "    <tr>\n",
       "      <th>0</th>\n",
       "      <td>Pns2l4eNsfO8kk83dixA6A</td>\n",
       "      <td>Abby Rappoport, LAC, CMQ</td>\n",
       "      <td>1616 Chapala St, Ste 2</td>\n",
       "      <td>Santa Barbara</td>\n",
       "      <td>CA</td>\n",
       "      <td>93101</td>\n",
       "      <td>34.426679</td>\n",
       "      <td>-119.711197</td>\n",
       "      <td>5.0</td>\n",
       "      <td>7</td>\n",
       "      <td>0</td>\n",
       "      <td>{'ByAppointmentOnly': 'True'}</td>\n",
       "      <td>Doctors, Traditional Chinese Medicine, Naturop...</td>\n",
       "      <td>None</td>\n",
       "    </tr>\n",
       "  </tbody>\n",
       "</table>\n",
       "</div>"
      ],
      "text/plain": [
       "              business_id                      name                 address  \\\n",
       "0  Pns2l4eNsfO8kk83dixA6A  Abby Rappoport, LAC, CMQ  1616 Chapala St, Ste 2   \n",
       "\n",
       "            city state postal_code   latitude   longitude  stars  \\\n",
       "0  Santa Barbara    CA       93101  34.426679 -119.711197    5.0   \n",
       "\n",
       "   review_count  is_open                     attributes  \\\n",
       "0             7        0  {'ByAppointmentOnly': 'True'}   \n",
       "\n",
       "                                          categories hours  \n",
       "0  Doctors, Traditional Chinese Medicine, Naturop...  None  "
      ]
     },
     "execution_count": 353,
     "metadata": {},
     "output_type": "execute_result"
    }
   ],
   "source": [
    "businessDf.head(1)"
   ]
  },
  {
   "cell_type": "code",
   "execution_count": 354,
   "metadata": {},
   "outputs": [
    {
     "data": {
      "text/plain": [
       "Index(['business_id', 'name', 'address', 'city', 'state', 'postal_code',\n",
       "       'latitude', 'longitude', 'stars', 'review_count', 'is_open',\n",
       "       'attributes', 'categories', 'hours'],\n",
       "      dtype='object')"
      ]
     },
     "execution_count": 354,
     "metadata": {},
     "output_type": "execute_result"
    }
   ],
   "source": [
    "businessDf.columns"
   ]
  },
  {
   "cell_type": "markdown",
   "metadata": {},
   "source": [
    "## **Transforming Dataset**\n"
   ]
  },
  {
   "cell_type": "code",
   "execution_count": 355,
   "metadata": {},
   "outputs": [
    {
     "data": {
      "text/html": [
       "<div>\n",
       "<style scoped>\n",
       "    .dataframe tbody tr th:only-of-type {\n",
       "        vertical-align: middle;\n",
       "    }\n",
       "\n",
       "    .dataframe tbody tr th {\n",
       "        vertical-align: top;\n",
       "    }\n",
       "\n",
       "    .dataframe thead th {\n",
       "        text-align: right;\n",
       "    }\n",
       "</style>\n",
       "<table border=\"1\" class=\"dataframe\">\n",
       "  <thead>\n",
       "    <tr style=\"text-align: right;\">\n",
       "      <th></th>\n",
       "      <th>latitude</th>\n",
       "      <th>longitude</th>\n",
       "      <th>stars</th>\n",
       "      <th>review_count</th>\n",
       "      <th>is_open</th>\n",
       "    </tr>\n",
       "  </thead>\n",
       "  <tbody>\n",
       "    <tr>\n",
       "      <th>count</th>\n",
       "      <td>150346.000000</td>\n",
       "      <td>150346.000000</td>\n",
       "      <td>150346.000000</td>\n",
       "      <td>150346.000000</td>\n",
       "      <td>150346.00000</td>\n",
       "    </tr>\n",
       "    <tr>\n",
       "      <th>mean</th>\n",
       "      <td>36.671150</td>\n",
       "      <td>-89.357339</td>\n",
       "      <td>3.596724</td>\n",
       "      <td>44.866561</td>\n",
       "      <td>0.79615</td>\n",
       "    </tr>\n",
       "    <tr>\n",
       "      <th>std</th>\n",
       "      <td>5.872759</td>\n",
       "      <td>14.918502</td>\n",
       "      <td>0.974421</td>\n",
       "      <td>121.120136</td>\n",
       "      <td>0.40286</td>\n",
       "    </tr>\n",
       "    <tr>\n",
       "      <th>min</th>\n",
       "      <td>27.555127</td>\n",
       "      <td>-120.095137</td>\n",
       "      <td>1.000000</td>\n",
       "      <td>5.000000</td>\n",
       "      <td>0.00000</td>\n",
       "    </tr>\n",
       "    <tr>\n",
       "      <th>25%</th>\n",
       "      <td>32.187293</td>\n",
       "      <td>-90.357810</td>\n",
       "      <td>3.000000</td>\n",
       "      <td>8.000000</td>\n",
       "      <td>1.00000</td>\n",
       "    </tr>\n",
       "    <tr>\n",
       "      <th>50%</th>\n",
       "      <td>38.777413</td>\n",
       "      <td>-86.121179</td>\n",
       "      <td>3.500000</td>\n",
       "      <td>15.000000</td>\n",
       "      <td>1.00000</td>\n",
       "    </tr>\n",
       "    <tr>\n",
       "      <th>75%</th>\n",
       "      <td>39.954036</td>\n",
       "      <td>-75.421542</td>\n",
       "      <td>4.500000</td>\n",
       "      <td>37.000000</td>\n",
       "      <td>1.00000</td>\n",
       "    </tr>\n",
       "    <tr>\n",
       "      <th>max</th>\n",
       "      <td>53.679197</td>\n",
       "      <td>-73.200457</td>\n",
       "      <td>5.000000</td>\n",
       "      <td>7568.000000</td>\n",
       "      <td>1.00000</td>\n",
       "    </tr>\n",
       "  </tbody>\n",
       "</table>\n",
       "</div>"
      ],
      "text/plain": [
       "            latitude      longitude          stars   review_count  \\\n",
       "count  150346.000000  150346.000000  150346.000000  150346.000000   \n",
       "mean       36.671150     -89.357339       3.596724      44.866561   \n",
       "std         5.872759      14.918502       0.974421     121.120136   \n",
       "min        27.555127    -120.095137       1.000000       5.000000   \n",
       "25%        32.187293     -90.357810       3.000000       8.000000   \n",
       "50%        38.777413     -86.121179       3.500000      15.000000   \n",
       "75%        39.954036     -75.421542       4.500000      37.000000   \n",
       "max        53.679197     -73.200457       5.000000    7568.000000   \n",
       "\n",
       "            is_open  \n",
       "count  150346.00000  \n",
       "mean        0.79615  \n",
       "std         0.40286  \n",
       "min         0.00000  \n",
       "25%         1.00000  \n",
       "50%         1.00000  \n",
       "75%         1.00000  \n",
       "max         1.00000  "
      ]
     },
     "execution_count": 355,
     "metadata": {},
     "output_type": "execute_result"
    }
   ],
   "source": [
    "businessDf.describe()"
   ]
  },
  {
   "cell_type": "code",
   "execution_count": 356,
   "metadata": {},
   "outputs": [
    {
     "name": "stdout",
     "output_type": "stream",
     "text": [
      "<class 'pandas.core.frame.DataFrame'>\n",
      "RangeIndex: 150346 entries, 0 to 150345\n",
      "Data columns (total 14 columns):\n",
      " #   Column        Non-Null Count   Dtype  \n",
      "---  ------        --------------   -----  \n",
      " 0   business_id   150346 non-null  object \n",
      " 1   name          150346 non-null  object \n",
      " 2   address       150346 non-null  object \n",
      " 3   city          150346 non-null  object \n",
      " 4   state         150346 non-null  object \n",
      " 5   postal_code   150346 non-null  object \n",
      " 6   latitude      150346 non-null  float64\n",
      " 7   longitude     150346 non-null  float64\n",
      " 8   stars         150346 non-null  float64\n",
      " 9   review_count  150346 non-null  int64  \n",
      " 10  is_open       150346 non-null  int64  \n",
      " 11  attributes    136602 non-null  object \n",
      " 12  categories    150243 non-null  object \n",
      " 13  hours         127123 non-null  object \n",
      "dtypes: float64(3), int64(2), object(9)\n",
      "memory usage: 16.1+ MB\n"
     ]
    }
   ],
   "source": [
    "businessDf.info()"
   ]
  },
  {
   "cell_type": "code",
   "execution_count": 357,
   "metadata": {},
   "outputs": [],
   "source": [
    "# Select specific columns to create a new DataFrame\n",
    "selected_columns = ['business_id', 'name', 'city', 'address', 'longitude', 'latitude', 'stars', 'review_count', 'categories']\n",
    "newDf = businessDf[selected_columns]\n",
    "\n",
    "# Rename columns in the new DataFrame\n",
    "newDf = newDf.rename(columns={'stars': 'rating', 'count': 'review_count'})"
   ]
  },
  {
   "cell_type": "code",
   "execution_count": 358,
   "metadata": {},
   "outputs": [
    {
     "name": "stdout",
     "output_type": "stream",
     "text": [
      "Restaurants found: 52268\n"
     ]
    }
   ],
   "source": [
    "restaurants_df = newDf[newDf['categories'].str.contains('Restaurants', case=False, na=False)]\n",
    "print(\"Restaurants found:\",len(restaurants_df))"
   ]
  },
  {
   "cell_type": "code",
   "execution_count": 359,
   "metadata": {},
   "outputs": [
    {
     "data": {
      "text/html": [
       "<div>\n",
       "<style scoped>\n",
       "    .dataframe tbody tr th:only-of-type {\n",
       "        vertical-align: middle;\n",
       "    }\n",
       "\n",
       "    .dataframe tbody tr th {\n",
       "        vertical-align: top;\n",
       "    }\n",
       "\n",
       "    .dataframe thead th {\n",
       "        text-align: right;\n",
       "    }\n",
       "</style>\n",
       "<table border=\"1\" class=\"dataframe\">\n",
       "  <thead>\n",
       "    <tr style=\"text-align: right;\">\n",
       "      <th></th>\n",
       "      <th>business_id</th>\n",
       "      <th>name</th>\n",
       "      <th>city</th>\n",
       "      <th>address</th>\n",
       "      <th>longitude</th>\n",
       "      <th>latitude</th>\n",
       "      <th>rating</th>\n",
       "      <th>review_count</th>\n",
       "      <th>categories</th>\n",
       "    </tr>\n",
       "  </thead>\n",
       "  <tbody>\n",
       "    <tr>\n",
       "      <th>3</th>\n",
       "      <td>False</td>\n",
       "      <td>False</td>\n",
       "      <td>False</td>\n",
       "      <td>False</td>\n",
       "      <td>False</td>\n",
       "      <td>False</td>\n",
       "      <td>False</td>\n",
       "      <td>False</td>\n",
       "      <td>False</td>\n",
       "    </tr>\n",
       "    <tr>\n",
       "      <th>5</th>\n",
       "      <td>False</td>\n",
       "      <td>False</td>\n",
       "      <td>False</td>\n",
       "      <td>False</td>\n",
       "      <td>False</td>\n",
       "      <td>False</td>\n",
       "      <td>False</td>\n",
       "      <td>False</td>\n",
       "      <td>False</td>\n",
       "    </tr>\n",
       "    <tr>\n",
       "      <th>8</th>\n",
       "      <td>False</td>\n",
       "      <td>False</td>\n",
       "      <td>False</td>\n",
       "      <td>False</td>\n",
       "      <td>False</td>\n",
       "      <td>False</td>\n",
       "      <td>False</td>\n",
       "      <td>False</td>\n",
       "      <td>False</td>\n",
       "    </tr>\n",
       "    <tr>\n",
       "      <th>9</th>\n",
       "      <td>False</td>\n",
       "      <td>False</td>\n",
       "      <td>False</td>\n",
       "      <td>False</td>\n",
       "      <td>False</td>\n",
       "      <td>False</td>\n",
       "      <td>False</td>\n",
       "      <td>False</td>\n",
       "      <td>False</td>\n",
       "    </tr>\n",
       "    <tr>\n",
       "      <th>11</th>\n",
       "      <td>False</td>\n",
       "      <td>False</td>\n",
       "      <td>False</td>\n",
       "      <td>False</td>\n",
       "      <td>False</td>\n",
       "      <td>False</td>\n",
       "      <td>False</td>\n",
       "      <td>False</td>\n",
       "      <td>False</td>\n",
       "    </tr>\n",
       "    <tr>\n",
       "      <th>...</th>\n",
       "      <td>...</td>\n",
       "      <td>...</td>\n",
       "      <td>...</td>\n",
       "      <td>...</td>\n",
       "      <td>...</td>\n",
       "      <td>...</td>\n",
       "      <td>...</td>\n",
       "      <td>...</td>\n",
       "      <td>...</td>\n",
       "    </tr>\n",
       "    <tr>\n",
       "      <th>150325</th>\n",
       "      <td>False</td>\n",
       "      <td>False</td>\n",
       "      <td>False</td>\n",
       "      <td>False</td>\n",
       "      <td>False</td>\n",
       "      <td>False</td>\n",
       "      <td>False</td>\n",
       "      <td>False</td>\n",
       "      <td>False</td>\n",
       "    </tr>\n",
       "    <tr>\n",
       "      <th>150327</th>\n",
       "      <td>False</td>\n",
       "      <td>False</td>\n",
       "      <td>False</td>\n",
       "      <td>False</td>\n",
       "      <td>False</td>\n",
       "      <td>False</td>\n",
       "      <td>False</td>\n",
       "      <td>False</td>\n",
       "      <td>False</td>\n",
       "    </tr>\n",
       "    <tr>\n",
       "      <th>150336</th>\n",
       "      <td>False</td>\n",
       "      <td>False</td>\n",
       "      <td>False</td>\n",
       "      <td>False</td>\n",
       "      <td>False</td>\n",
       "      <td>False</td>\n",
       "      <td>False</td>\n",
       "      <td>False</td>\n",
       "      <td>False</td>\n",
       "    </tr>\n",
       "    <tr>\n",
       "      <th>150339</th>\n",
       "      <td>False</td>\n",
       "      <td>False</td>\n",
       "      <td>False</td>\n",
       "      <td>False</td>\n",
       "      <td>False</td>\n",
       "      <td>False</td>\n",
       "      <td>False</td>\n",
       "      <td>False</td>\n",
       "      <td>False</td>\n",
       "    </tr>\n",
       "    <tr>\n",
       "      <th>150340</th>\n",
       "      <td>False</td>\n",
       "      <td>False</td>\n",
       "      <td>False</td>\n",
       "      <td>False</td>\n",
       "      <td>False</td>\n",
       "      <td>False</td>\n",
       "      <td>False</td>\n",
       "      <td>False</td>\n",
       "      <td>False</td>\n",
       "    </tr>\n",
       "  </tbody>\n",
       "</table>\n",
       "<p>52268 rows × 9 columns</p>\n",
       "</div>"
      ],
      "text/plain": [
       "        business_id   name   city  address  longitude  latitude  rating  \\\n",
       "3             False  False  False    False      False     False   False   \n",
       "5             False  False  False    False      False     False   False   \n",
       "8             False  False  False    False      False     False   False   \n",
       "9             False  False  False    False      False     False   False   \n",
       "11            False  False  False    False      False     False   False   \n",
       "...             ...    ...    ...      ...        ...       ...     ...   \n",
       "150325        False  False  False    False      False     False   False   \n",
       "150327        False  False  False    False      False     False   False   \n",
       "150336        False  False  False    False      False     False   False   \n",
       "150339        False  False  False    False      False     False   False   \n",
       "150340        False  False  False    False      False     False   False   \n",
       "\n",
       "        review_count  categories  \n",
       "3              False       False  \n",
       "5              False       False  \n",
       "8              False       False  \n",
       "9              False       False  \n",
       "11             False       False  \n",
       "...              ...         ...  \n",
       "150325         False       False  \n",
       "150327         False       False  \n",
       "150336         False       False  \n",
       "150339         False       False  \n",
       "150340         False       False  \n",
       "\n",
       "[52268 rows x 9 columns]"
      ]
     },
     "execution_count": 359,
     "metadata": {},
     "output_type": "execute_result"
    }
   ],
   "source": [
    "restaurants_df.isna()"
   ]
  },
  {
   "cell_type": "code",
   "execution_count": 360,
   "metadata": {},
   "outputs": [
    {
     "data": {
      "text/html": [
       "<div>\n",
       "<style scoped>\n",
       "    .dataframe tbody tr th:only-of-type {\n",
       "        vertical-align: middle;\n",
       "    }\n",
       "\n",
       "    .dataframe tbody tr th {\n",
       "        vertical-align: top;\n",
       "    }\n",
       "\n",
       "    .dataframe thead th {\n",
       "        text-align: right;\n",
       "    }\n",
       "</style>\n",
       "<table border=\"1\" class=\"dataframe\">\n",
       "  <thead>\n",
       "    <tr style=\"text-align: right;\">\n",
       "      <th></th>\n",
       "      <th>business_id</th>\n",
       "      <th>name</th>\n",
       "      <th>city</th>\n",
       "      <th>address</th>\n",
       "      <th>longitude</th>\n",
       "      <th>latitude</th>\n",
       "      <th>rating</th>\n",
       "      <th>review_count</th>\n",
       "      <th>categories</th>\n",
       "    </tr>\n",
       "  </thead>\n",
       "  <tbody>\n",
       "    <tr>\n",
       "      <th>11</th>\n",
       "      <td>eEOYSgkmpB90uNA7lDOMRA</td>\n",
       "      <td>Vietnamese Food Truck</td>\n",
       "      <td>Tampa Bay</td>\n",
       "      <td></td>\n",
       "      <td>-82.456320</td>\n",
       "      <td>27.955269</td>\n",
       "      <td>4.0</td>\n",
       "      <td>10</td>\n",
       "      <td>Vietnamese, Food, Restaurants, Food Trucks</td>\n",
       "    </tr>\n",
       "    <tr>\n",
       "      <th>93</th>\n",
       "      <td>RK6-cJ9hj53RzOlCBmpT-g</td>\n",
       "      <td>Impasto</td>\n",
       "      <td>Tampa</td>\n",
       "      <td></td>\n",
       "      <td>-82.502346</td>\n",
       "      <td>27.890814</td>\n",
       "      <td>5.0</td>\n",
       "      <td>5</td>\n",
       "      <td>Restaurants, Italian, Food Trucks, Food</td>\n",
       "    </tr>\n",
       "    <tr>\n",
       "      <th>320</th>\n",
       "      <td>FF45pKN_lzqG8Bqk-_HQvw</td>\n",
       "      <td>Go! Gyro! Go!</td>\n",
       "      <td>Saint Louis</td>\n",
       "      <td></td>\n",
       "      <td>-90.266699</td>\n",
       "      <td>38.584487</td>\n",
       "      <td>4.5</td>\n",
       "      <td>49</td>\n",
       "      <td>Street Vendors, Food, Food Trucks, Greek, Food...</td>\n",
       "    </tr>\n",
       "    <tr>\n",
       "      <th>435</th>\n",
       "      <td>bPPy7yNFfb-6N_bHkn1qAw</td>\n",
       "      <td>Taste of the Caribbean</td>\n",
       "      <td>Indianapolis</td>\n",
       "      <td></td>\n",
       "      <td>-86.086060</td>\n",
       "      <td>39.773392</td>\n",
       "      <td>3.0</td>\n",
       "      <td>17</td>\n",
       "      <td>Restaurants, Caribbean, Food Trucks, Food</td>\n",
       "    </tr>\n",
       "    <tr>\n",
       "      <th>553</th>\n",
       "      <td>adATTqggIQX5xxLDISkFTw</td>\n",
       "      <td>Just Churros</td>\n",
       "      <td>Tucson</td>\n",
       "      <td></td>\n",
       "      <td>-110.992075</td>\n",
       "      <td>32.271231</td>\n",
       "      <td>5.0</td>\n",
       "      <td>25</td>\n",
       "      <td>Food Trucks, Restaurants, Caterers, Event Plan...</td>\n",
       "    </tr>\n",
       "    <tr>\n",
       "      <th>...</th>\n",
       "      <td>...</td>\n",
       "      <td>...</td>\n",
       "      <td>...</td>\n",
       "      <td>...</td>\n",
       "      <td>...</td>\n",
       "      <td>...</td>\n",
       "      <td>...</td>\n",
       "      <td>...</td>\n",
       "      <td>...</td>\n",
       "    </tr>\n",
       "    <tr>\n",
       "      <th>148069</th>\n",
       "      <td>OUjISvf-zceQAg2uvuPLWw</td>\n",
       "      <td>Ciao Down</td>\n",
       "      <td>Tucson</td>\n",
       "      <td></td>\n",
       "      <td>-110.974715</td>\n",
       "      <td>32.222601</td>\n",
       "      <td>4.5</td>\n",
       "      <td>12</td>\n",
       "      <td>Food Trucks, Pizza, Italian, Restaurants, Food</td>\n",
       "    </tr>\n",
       "    <tr>\n",
       "      <th>148323</th>\n",
       "      <td>7uMwPg2lmF_KscKo9lFCwQ</td>\n",
       "      <td>American Express century and lounge</td>\n",
       "      <td>Philadelphia</td>\n",
       "      <td></td>\n",
       "      <td>-75.245329</td>\n",
       "      <td>39.876141</td>\n",
       "      <td>5.0</td>\n",
       "      <td>5</td>\n",
       "      <td>Nightlife, Food Court, Restaurants, Airport Lo...</td>\n",
       "    </tr>\n",
       "    <tr>\n",
       "      <th>148627</th>\n",
       "      <td>RzKHpILaR1nAKDHeKxVY8A</td>\n",
       "      <td>Wanderlust Pizza</td>\n",
       "      <td>Saint Louis</td>\n",
       "      <td></td>\n",
       "      <td>-90.225220</td>\n",
       "      <td>38.649590</td>\n",
       "      <td>4.0</td>\n",
       "      <td>19</td>\n",
       "      <td>Restaurants, Street Vendors, Food, Food Trucks...</td>\n",
       "    </tr>\n",
       "    <tr>\n",
       "      <th>149513</th>\n",
       "      <td>eTg443zUsuwc1u63RKtXWg</td>\n",
       "      <td>Gateway Dog House</td>\n",
       "      <td>Saint Louis</td>\n",
       "      <td></td>\n",
       "      <td>-90.199404</td>\n",
       "      <td>38.627003</td>\n",
       "      <td>4.0</td>\n",
       "      <td>7</td>\n",
       "      <td>Barbeque, Food, Street Vendors, Hot Dogs, Rest...</td>\n",
       "    </tr>\n",
       "    <tr>\n",
       "      <th>149712</th>\n",
       "      <td>VF0msgGweBtGX_2UM2fXaA</td>\n",
       "      <td>Potluck</td>\n",
       "      <td>Reno</td>\n",
       "      <td></td>\n",
       "      <td>-119.731021</td>\n",
       "      <td>39.483565</td>\n",
       "      <td>4.5</td>\n",
       "      <td>29</td>\n",
       "      <td>Asian Fusion, Food Trucks, Food, Restaurants, ...</td>\n",
       "    </tr>\n",
       "  </tbody>\n",
       "</table>\n",
       "<p>443 rows × 9 columns</p>\n",
       "</div>"
      ],
      "text/plain": [
       "                   business_id                                 name  \\\n",
       "11      eEOYSgkmpB90uNA7lDOMRA                Vietnamese Food Truck   \n",
       "93      RK6-cJ9hj53RzOlCBmpT-g                              Impasto   \n",
       "320     FF45pKN_lzqG8Bqk-_HQvw                        Go! Gyro! Go!   \n",
       "435     bPPy7yNFfb-6N_bHkn1qAw               Taste of the Caribbean   \n",
       "553     adATTqggIQX5xxLDISkFTw                         Just Churros   \n",
       "...                        ...                                  ...   \n",
       "148069  OUjISvf-zceQAg2uvuPLWw                            Ciao Down   \n",
       "148323  7uMwPg2lmF_KscKo9lFCwQ  American Express century and lounge   \n",
       "148627  RzKHpILaR1nAKDHeKxVY8A                     Wanderlust Pizza   \n",
       "149513  eTg443zUsuwc1u63RKtXWg                    Gateway Dog House   \n",
       "149712  VF0msgGweBtGX_2UM2fXaA                              Potluck   \n",
       "\n",
       "                city address   longitude   latitude  rating  review_count  \\\n",
       "11         Tampa Bay          -82.456320  27.955269     4.0            10   \n",
       "93             Tampa          -82.502346  27.890814     5.0             5   \n",
       "320      Saint Louis          -90.266699  38.584487     4.5            49   \n",
       "435     Indianapolis          -86.086060  39.773392     3.0            17   \n",
       "553           Tucson         -110.992075  32.271231     5.0            25   \n",
       "...              ...     ...         ...        ...     ...           ...   \n",
       "148069        Tucson         -110.974715  32.222601     4.5            12   \n",
       "148323  Philadelphia          -75.245329  39.876141     5.0             5   \n",
       "148627   Saint Louis          -90.225220  38.649590     4.0            19   \n",
       "149513   Saint Louis          -90.199404  38.627003     4.0             7   \n",
       "149712          Reno         -119.731021  39.483565     4.5            29   \n",
       "\n",
       "                                               categories  \n",
       "11             Vietnamese, Food, Restaurants, Food Trucks  \n",
       "93                Restaurants, Italian, Food Trucks, Food  \n",
       "320     Street Vendors, Food, Food Trucks, Greek, Food...  \n",
       "435             Restaurants, Caribbean, Food Trucks, Food  \n",
       "553     Food Trucks, Restaurants, Caterers, Event Plan...  \n",
       "...                                                   ...  \n",
       "148069     Food Trucks, Pizza, Italian, Restaurants, Food  \n",
       "148323  Nightlife, Food Court, Restaurants, Airport Lo...  \n",
       "148627  Restaurants, Street Vendors, Food, Food Trucks...  \n",
       "149513  Barbeque, Food, Street Vendors, Hot Dogs, Rest...  \n",
       "149712  Asian Fusion, Food Trucks, Food, Restaurants, ...  \n",
       "\n",
       "[443 rows x 9 columns]"
      ]
     },
     "execution_count": 360,
     "metadata": {},
     "output_type": "execute_result"
    }
   ],
   "source": [
    "missing_values = restaurants_df.isnull().any(axis=1)\n",
    "empty_strings = (restaurants_df == '').any(axis=1)\n",
    "\n",
    "restaurants_df.loc[missing_values | empty_strings]"
   ]
  },
  {
   "cell_type": "code",
   "execution_count": 361,
   "metadata": {},
   "outputs": [],
   "source": [
    "restaurants_df = restaurants_df.replace('', np.nan).dropna()"
   ]
  },
  {
   "cell_type": "code",
   "execution_count": 362,
   "metadata": {},
   "outputs": [
    {
     "data": {
      "text/plain": [
       "business_id     0\n",
       "name            0\n",
       "city            0\n",
       "address         0\n",
       "longitude       0\n",
       "latitude        0\n",
       "rating          0\n",
       "review_count    0\n",
       "categories      0\n",
       "dtype: int64"
      ]
     },
     "execution_count": 362,
     "metadata": {},
     "output_type": "execute_result"
    }
   ],
   "source": [
    "restaurants_df.isnull().sum()"
   ]
  },
  {
   "cell_type": "markdown",
   "metadata": {},
   "source": [
    "# **<div align=\"center\">`Reviews Dataset`</div>**"
   ]
  },
  {
   "cell_type": "code",
   "execution_count": 363,
   "metadata": {},
   "outputs": [],
   "source": [
    "# data_file = open(\"./data/yelp_academic_dataset_review.json\", encoding=\"utf-8\")\n",
    "\n",
    "# data = []\n",
    "\n",
    "# for line in data_file:\n",
    "#   data.append(json.loads(line))\n",
    "\n",
    "# reviewsDf = pd.DataFrame(data)"
   ]
  },
  {
   "cell_type": "code",
   "execution_count": 364,
   "metadata": {},
   "outputs": [],
   "source": [
    "# reviewsDf = pd.read_csv('./data/reviews.csv', encoding='latin-1')"
   ]
  },
  {
   "cell_type": "code",
   "execution_count": 365,
   "metadata": {},
   "outputs": [
    {
     "ename": "FileNotFoundError",
     "evalue": "[Errno 2] No such file or directory: './data/modified_restaurants.csv'",
     "output_type": "error",
     "traceback": [
      "\u001b[1;31m---------------------------------------------------------------------------\u001b[0m",
      "\u001b[1;31mFileNotFoundError\u001b[0m                         Traceback (most recent call last)",
      "Cell \u001b[1;32mIn[365], line 1\u001b[0m\n\u001b[1;32m----> 1\u001b[0m modified_restaurants_df \u001b[38;5;241m=\u001b[39m \u001b[43mpd\u001b[49m\u001b[38;5;241;43m.\u001b[39;49m\u001b[43mread_csv\u001b[49m\u001b[43m(\u001b[49m\u001b[38;5;124;43m'\u001b[39;49m\u001b[38;5;124;43m./data/modified_restaurants.csv\u001b[39;49m\u001b[38;5;124;43m'\u001b[39;49m\u001b[43m,\u001b[49m\u001b[43m \u001b[49m\u001b[43mencoding\u001b[49m\u001b[38;5;241;43m=\u001b[39;49m\u001b[38;5;124;43m'\u001b[39;49m\u001b[38;5;124;43mlatin-1\u001b[39;49m\u001b[38;5;124;43m'\u001b[39;49m\u001b[43m)\u001b[49m\n\u001b[0;32m      2\u001b[0m modified_restaurants_df \u001b[38;5;241m=\u001b[39m modified_restaurants_df\u001b[38;5;241m.\u001b[39mhead(\u001b[38;5;241m5000\u001b[39m)\n",
      "File \u001b[1;32mc:\\Python311\\Lib\\site-packages\\pandas\\io\\parsers\\readers.py:1024\u001b[0m, in \u001b[0;36mread_csv\u001b[1;34m(filepath_or_buffer, sep, delimiter, header, names, index_col, usecols, dtype, engine, converters, true_values, false_values, skipinitialspace, skiprows, skipfooter, nrows, na_values, keep_default_na, na_filter, verbose, skip_blank_lines, parse_dates, infer_datetime_format, keep_date_col, date_parser, date_format, dayfirst, cache_dates, iterator, chunksize, compression, thousands, decimal, lineterminator, quotechar, quoting, doublequote, escapechar, comment, encoding, encoding_errors, dialect, on_bad_lines, delim_whitespace, low_memory, memory_map, float_precision, storage_options, dtype_backend)\u001b[0m\n\u001b[0;32m   1011\u001b[0m kwds_defaults \u001b[38;5;241m=\u001b[39m _refine_defaults_read(\n\u001b[0;32m   1012\u001b[0m     dialect,\n\u001b[0;32m   1013\u001b[0m     delimiter,\n\u001b[1;32m   (...)\u001b[0m\n\u001b[0;32m   1020\u001b[0m     dtype_backend\u001b[38;5;241m=\u001b[39mdtype_backend,\n\u001b[0;32m   1021\u001b[0m )\n\u001b[0;32m   1022\u001b[0m kwds\u001b[38;5;241m.\u001b[39mupdate(kwds_defaults)\n\u001b[1;32m-> 1024\u001b[0m \u001b[38;5;28;01mreturn\u001b[39;00m \u001b[43m_read\u001b[49m\u001b[43m(\u001b[49m\u001b[43mfilepath_or_buffer\u001b[49m\u001b[43m,\u001b[49m\u001b[43m \u001b[49m\u001b[43mkwds\u001b[49m\u001b[43m)\u001b[49m\n",
      "File \u001b[1;32mc:\\Python311\\Lib\\site-packages\\pandas\\io\\parsers\\readers.py:618\u001b[0m, in \u001b[0;36m_read\u001b[1;34m(filepath_or_buffer, kwds)\u001b[0m\n\u001b[0;32m    615\u001b[0m _validate_names(kwds\u001b[38;5;241m.\u001b[39mget(\u001b[38;5;124m\"\u001b[39m\u001b[38;5;124mnames\u001b[39m\u001b[38;5;124m\"\u001b[39m, \u001b[38;5;28;01mNone\u001b[39;00m))\n\u001b[0;32m    617\u001b[0m \u001b[38;5;66;03m# Create the parser.\u001b[39;00m\n\u001b[1;32m--> 618\u001b[0m parser \u001b[38;5;241m=\u001b[39m \u001b[43mTextFileReader\u001b[49m\u001b[43m(\u001b[49m\u001b[43mfilepath_or_buffer\u001b[49m\u001b[43m,\u001b[49m\u001b[43m \u001b[49m\u001b[38;5;241;43m*\u001b[39;49m\u001b[38;5;241;43m*\u001b[39;49m\u001b[43mkwds\u001b[49m\u001b[43m)\u001b[49m\n\u001b[0;32m    620\u001b[0m \u001b[38;5;28;01mif\u001b[39;00m chunksize \u001b[38;5;129;01mor\u001b[39;00m iterator:\n\u001b[0;32m    621\u001b[0m     \u001b[38;5;28;01mreturn\u001b[39;00m parser\n",
      "File \u001b[1;32mc:\\Python311\\Lib\\site-packages\\pandas\\io\\parsers\\readers.py:1618\u001b[0m, in \u001b[0;36mTextFileReader.__init__\u001b[1;34m(self, f, engine, **kwds)\u001b[0m\n\u001b[0;32m   1615\u001b[0m     \u001b[38;5;28mself\u001b[39m\u001b[38;5;241m.\u001b[39moptions[\u001b[38;5;124m\"\u001b[39m\u001b[38;5;124mhas_index_names\u001b[39m\u001b[38;5;124m\"\u001b[39m] \u001b[38;5;241m=\u001b[39m kwds[\u001b[38;5;124m\"\u001b[39m\u001b[38;5;124mhas_index_names\u001b[39m\u001b[38;5;124m\"\u001b[39m]\n\u001b[0;32m   1617\u001b[0m \u001b[38;5;28mself\u001b[39m\u001b[38;5;241m.\u001b[39mhandles: IOHandles \u001b[38;5;241m|\u001b[39m \u001b[38;5;28;01mNone\u001b[39;00m \u001b[38;5;241m=\u001b[39m \u001b[38;5;28;01mNone\u001b[39;00m\n\u001b[1;32m-> 1618\u001b[0m \u001b[38;5;28mself\u001b[39m\u001b[38;5;241m.\u001b[39m_engine \u001b[38;5;241m=\u001b[39m \u001b[38;5;28;43mself\u001b[39;49m\u001b[38;5;241;43m.\u001b[39;49m\u001b[43m_make_engine\u001b[49m\u001b[43m(\u001b[49m\u001b[43mf\u001b[49m\u001b[43m,\u001b[49m\u001b[43m \u001b[49m\u001b[38;5;28;43mself\u001b[39;49m\u001b[38;5;241;43m.\u001b[39;49m\u001b[43mengine\u001b[49m\u001b[43m)\u001b[49m\n",
      "File \u001b[1;32mc:\\Python311\\Lib\\site-packages\\pandas\\io\\parsers\\readers.py:1878\u001b[0m, in \u001b[0;36mTextFileReader._make_engine\u001b[1;34m(self, f, engine)\u001b[0m\n\u001b[0;32m   1876\u001b[0m     \u001b[38;5;28;01mif\u001b[39;00m \u001b[38;5;124m\"\u001b[39m\u001b[38;5;124mb\u001b[39m\u001b[38;5;124m\"\u001b[39m \u001b[38;5;129;01mnot\u001b[39;00m \u001b[38;5;129;01min\u001b[39;00m mode:\n\u001b[0;32m   1877\u001b[0m         mode \u001b[38;5;241m+\u001b[39m\u001b[38;5;241m=\u001b[39m \u001b[38;5;124m\"\u001b[39m\u001b[38;5;124mb\u001b[39m\u001b[38;5;124m\"\u001b[39m\n\u001b[1;32m-> 1878\u001b[0m \u001b[38;5;28mself\u001b[39m\u001b[38;5;241m.\u001b[39mhandles \u001b[38;5;241m=\u001b[39m \u001b[43mget_handle\u001b[49m\u001b[43m(\u001b[49m\n\u001b[0;32m   1879\u001b[0m \u001b[43m    \u001b[49m\u001b[43mf\u001b[49m\u001b[43m,\u001b[49m\n\u001b[0;32m   1880\u001b[0m \u001b[43m    \u001b[49m\u001b[43mmode\u001b[49m\u001b[43m,\u001b[49m\n\u001b[0;32m   1881\u001b[0m \u001b[43m    \u001b[49m\u001b[43mencoding\u001b[49m\u001b[38;5;241;43m=\u001b[39;49m\u001b[38;5;28;43mself\u001b[39;49m\u001b[38;5;241;43m.\u001b[39;49m\u001b[43moptions\u001b[49m\u001b[38;5;241;43m.\u001b[39;49m\u001b[43mget\u001b[49m\u001b[43m(\u001b[49m\u001b[38;5;124;43m\"\u001b[39;49m\u001b[38;5;124;43mencoding\u001b[39;49m\u001b[38;5;124;43m\"\u001b[39;49m\u001b[43m,\u001b[49m\u001b[43m \u001b[49m\u001b[38;5;28;43;01mNone\u001b[39;49;00m\u001b[43m)\u001b[49m\u001b[43m,\u001b[49m\n\u001b[0;32m   1882\u001b[0m \u001b[43m    \u001b[49m\u001b[43mcompression\u001b[49m\u001b[38;5;241;43m=\u001b[39;49m\u001b[38;5;28;43mself\u001b[39;49m\u001b[38;5;241;43m.\u001b[39;49m\u001b[43moptions\u001b[49m\u001b[38;5;241;43m.\u001b[39;49m\u001b[43mget\u001b[49m\u001b[43m(\u001b[49m\u001b[38;5;124;43m\"\u001b[39;49m\u001b[38;5;124;43mcompression\u001b[39;49m\u001b[38;5;124;43m\"\u001b[39;49m\u001b[43m,\u001b[49m\u001b[43m \u001b[49m\u001b[38;5;28;43;01mNone\u001b[39;49;00m\u001b[43m)\u001b[49m\u001b[43m,\u001b[49m\n\u001b[0;32m   1883\u001b[0m \u001b[43m    \u001b[49m\u001b[43mmemory_map\u001b[49m\u001b[38;5;241;43m=\u001b[39;49m\u001b[38;5;28;43mself\u001b[39;49m\u001b[38;5;241;43m.\u001b[39;49m\u001b[43moptions\u001b[49m\u001b[38;5;241;43m.\u001b[39;49m\u001b[43mget\u001b[49m\u001b[43m(\u001b[49m\u001b[38;5;124;43m\"\u001b[39;49m\u001b[38;5;124;43mmemory_map\u001b[39;49m\u001b[38;5;124;43m\"\u001b[39;49m\u001b[43m,\u001b[49m\u001b[43m \u001b[49m\u001b[38;5;28;43;01mFalse\u001b[39;49;00m\u001b[43m)\u001b[49m\u001b[43m,\u001b[49m\n\u001b[0;32m   1884\u001b[0m \u001b[43m    \u001b[49m\u001b[43mis_text\u001b[49m\u001b[38;5;241;43m=\u001b[39;49m\u001b[43mis_text\u001b[49m\u001b[43m,\u001b[49m\n\u001b[0;32m   1885\u001b[0m \u001b[43m    \u001b[49m\u001b[43merrors\u001b[49m\u001b[38;5;241;43m=\u001b[39;49m\u001b[38;5;28;43mself\u001b[39;49m\u001b[38;5;241;43m.\u001b[39;49m\u001b[43moptions\u001b[49m\u001b[38;5;241;43m.\u001b[39;49m\u001b[43mget\u001b[49m\u001b[43m(\u001b[49m\u001b[38;5;124;43m\"\u001b[39;49m\u001b[38;5;124;43mencoding_errors\u001b[39;49m\u001b[38;5;124;43m\"\u001b[39;49m\u001b[43m,\u001b[49m\u001b[43m \u001b[49m\u001b[38;5;124;43m\"\u001b[39;49m\u001b[38;5;124;43mstrict\u001b[39;49m\u001b[38;5;124;43m\"\u001b[39;49m\u001b[43m)\u001b[49m\u001b[43m,\u001b[49m\n\u001b[0;32m   1886\u001b[0m \u001b[43m    \u001b[49m\u001b[43mstorage_options\u001b[49m\u001b[38;5;241;43m=\u001b[39;49m\u001b[38;5;28;43mself\u001b[39;49m\u001b[38;5;241;43m.\u001b[39;49m\u001b[43moptions\u001b[49m\u001b[38;5;241;43m.\u001b[39;49m\u001b[43mget\u001b[49m\u001b[43m(\u001b[49m\u001b[38;5;124;43m\"\u001b[39;49m\u001b[38;5;124;43mstorage_options\u001b[39;49m\u001b[38;5;124;43m\"\u001b[39;49m\u001b[43m,\u001b[49m\u001b[43m \u001b[49m\u001b[38;5;28;43;01mNone\u001b[39;49;00m\u001b[43m)\u001b[49m\u001b[43m,\u001b[49m\n\u001b[0;32m   1887\u001b[0m \u001b[43m\u001b[49m\u001b[43m)\u001b[49m\n\u001b[0;32m   1888\u001b[0m \u001b[38;5;28;01massert\u001b[39;00m \u001b[38;5;28mself\u001b[39m\u001b[38;5;241m.\u001b[39mhandles \u001b[38;5;129;01mis\u001b[39;00m \u001b[38;5;129;01mnot\u001b[39;00m \u001b[38;5;28;01mNone\u001b[39;00m\n\u001b[0;32m   1889\u001b[0m f \u001b[38;5;241m=\u001b[39m \u001b[38;5;28mself\u001b[39m\u001b[38;5;241m.\u001b[39mhandles\u001b[38;5;241m.\u001b[39mhandle\n",
      "File \u001b[1;32mc:\\Python311\\Lib\\site-packages\\pandas\\io\\common.py:873\u001b[0m, in \u001b[0;36mget_handle\u001b[1;34m(path_or_buf, mode, encoding, compression, memory_map, is_text, errors, storage_options)\u001b[0m\n\u001b[0;32m    868\u001b[0m \u001b[38;5;28;01melif\u001b[39;00m \u001b[38;5;28misinstance\u001b[39m(handle, \u001b[38;5;28mstr\u001b[39m):\n\u001b[0;32m    869\u001b[0m     \u001b[38;5;66;03m# Check whether the filename is to be opened in binary mode.\u001b[39;00m\n\u001b[0;32m    870\u001b[0m     \u001b[38;5;66;03m# Binary mode does not support 'encoding' and 'newline'.\u001b[39;00m\n\u001b[0;32m    871\u001b[0m     \u001b[38;5;28;01mif\u001b[39;00m ioargs\u001b[38;5;241m.\u001b[39mencoding \u001b[38;5;129;01mand\u001b[39;00m \u001b[38;5;124m\"\u001b[39m\u001b[38;5;124mb\u001b[39m\u001b[38;5;124m\"\u001b[39m \u001b[38;5;129;01mnot\u001b[39;00m \u001b[38;5;129;01min\u001b[39;00m ioargs\u001b[38;5;241m.\u001b[39mmode:\n\u001b[0;32m    872\u001b[0m         \u001b[38;5;66;03m# Encoding\u001b[39;00m\n\u001b[1;32m--> 873\u001b[0m         handle \u001b[38;5;241m=\u001b[39m \u001b[38;5;28mopen\u001b[39m(\n\u001b[0;32m    874\u001b[0m             handle,\n\u001b[0;32m    875\u001b[0m             ioargs\u001b[38;5;241m.\u001b[39mmode,\n\u001b[0;32m    876\u001b[0m             encoding\u001b[38;5;241m=\u001b[39mioargs\u001b[38;5;241m.\u001b[39mencoding,\n\u001b[0;32m    877\u001b[0m             errors\u001b[38;5;241m=\u001b[39merrors,\n\u001b[0;32m    878\u001b[0m             newline\u001b[38;5;241m=\u001b[39m\u001b[38;5;124m\"\u001b[39m\u001b[38;5;124m\"\u001b[39m,\n\u001b[0;32m    879\u001b[0m         )\n\u001b[0;32m    880\u001b[0m     \u001b[38;5;28;01melse\u001b[39;00m:\n\u001b[0;32m    881\u001b[0m         \u001b[38;5;66;03m# Binary mode\u001b[39;00m\n\u001b[0;32m    882\u001b[0m         handle \u001b[38;5;241m=\u001b[39m \u001b[38;5;28mopen\u001b[39m(handle, ioargs\u001b[38;5;241m.\u001b[39mmode)\n",
      "\u001b[1;31mFileNotFoundError\u001b[0m: [Errno 2] No such file or directory: './data/modified_restaurants.csv'"
     ]
    }
   ],
   "source": [
    "modified_restaurants_df = pd.read_csv('./data/modified_restaurants.csv', encoding='latin-1')\n",
    "modified_restaurants_df = modified_restaurants_df.head(5000)"
   ]
  },
  {
   "cell_type": "code",
   "execution_count": null,
   "metadata": {},
   "outputs": [
    {
     "data": {
      "text/plain": [
       "5000"
      ]
     },
     "execution_count": 336,
     "metadata": {},
     "output_type": "execute_result"
    }
   ],
   "source": [
    "restaurant_ids = modified_restaurants_df['business_id'].unique()\n",
    "len(restaurant_ids)"
   ]
  },
  {
   "cell_type": "code",
   "execution_count": null,
   "metadata": {},
   "outputs": [
    {
     "data": {
      "text/plain": [
       "(459915, 6)"
      ]
     },
     "execution_count": 337,
     "metadata": {},
     "output_type": "execute_result"
    }
   ],
   "source": [
    "filtered_reviews_df = reviewsDf[reviewsDf['business_id'].isin(restaurant_ids)]\n",
    "filtered_reviews_df.shape"
   ]
  },
  {
   "cell_type": "code",
   "execution_count": null,
   "metadata": {},
   "outputs": [
    {
     "data": {
      "text/html": [
       "<div>\n",
       "<style scoped>\n",
       "    .dataframe tbody tr th:only-of-type {\n",
       "        vertical-align: middle;\n",
       "    }\n",
       "\n",
       "    .dataframe tbody tr th {\n",
       "        vertical-align: top;\n",
       "    }\n",
       "\n",
       "    .dataframe thead th {\n",
       "        text-align: right;\n",
       "    }\n",
       "</style>\n",
       "<table border=\"1\" class=\"dataframe\">\n",
       "  <thead>\n",
       "    <tr style=\"text-align: right;\">\n",
       "      <th></th>\n",
       "      <th>rating</th>\n",
       "    </tr>\n",
       "  </thead>\n",
       "  <tbody>\n",
       "    <tr>\n",
       "      <th>count</th>\n",
       "      <td>459915.000000</td>\n",
       "    </tr>\n",
       "    <tr>\n",
       "      <th>mean</th>\n",
       "      <td>3.792438</td>\n",
       "    </tr>\n",
       "    <tr>\n",
       "      <th>std</th>\n",
       "      <td>1.390417</td>\n",
       "    </tr>\n",
       "    <tr>\n",
       "      <th>min</th>\n",
       "      <td>1.000000</td>\n",
       "    </tr>\n",
       "    <tr>\n",
       "      <th>25%</th>\n",
       "      <td>3.000000</td>\n",
       "    </tr>\n",
       "    <tr>\n",
       "      <th>50%</th>\n",
       "      <td>4.000000</td>\n",
       "    </tr>\n",
       "    <tr>\n",
       "      <th>75%</th>\n",
       "      <td>5.000000</td>\n",
       "    </tr>\n",
       "    <tr>\n",
       "      <th>max</th>\n",
       "      <td>5.000000</td>\n",
       "    </tr>\n",
       "  </tbody>\n",
       "</table>\n",
       "</div>"
      ],
      "text/plain": [
       "              rating\n",
       "count  459915.000000\n",
       "mean        3.792438\n",
       "std         1.390417\n",
       "min         1.000000\n",
       "25%         3.000000\n",
       "50%         4.000000\n",
       "75%         5.000000\n",
       "max         5.000000"
      ]
     },
     "execution_count": 317,
     "metadata": {},
     "output_type": "execute_result"
    }
   ],
   "source": [
    "filtered_reviews_df.describe()"
   ]
  },
  {
   "cell_type": "code",
   "execution_count": null,
   "metadata": {},
   "outputs": [
    {
     "name": "stdout",
     "output_type": "stream",
     "text": [
      "<class 'pandas.core.frame.DataFrame'>\n",
      "Index: 459915 entries, 0 to 922550\n",
      "Data columns (total 6 columns):\n",
      " #   Column       Non-Null Count   Dtype  \n",
      "---  ------       --------------   -----  \n",
      " 0   review_id    459915 non-null  object \n",
      " 1   user_id      459915 non-null  object \n",
      " 2   business_id  459915 non-null  object \n",
      " 3   rating       459915 non-null  float64\n",
      " 4   content      459915 non-null  object \n",
      " 5   createdAt    459915 non-null  object \n",
      "dtypes: float64(1), object(5)\n",
      "memory usage: 24.6+ MB\n"
     ]
    }
   ],
   "source": [
    "filtered_reviews_df.info()"
   ]
  },
  {
   "cell_type": "code",
   "execution_count": null,
   "metadata": {},
   "outputs": [],
   "source": [
    "# Select specific columns to create a new DataFrame\n",
    "selected_columns = ['review_id', 'user_id', 'business_id', 'stars', 'text', 'date']\n",
    "filtered_reviews_df = filtered_reviews_df[selected_columns]\n",
    "\n",
    "# Rename columns in the new DataFrame\n",
    "filtered_reviews_df = filtered_reviews_df.rename(columns={'stars': 'rating', 'text': 'content', 'date': 'createdAt'})"
   ]
  },
  {
   "cell_type": "code",
   "execution_count": null,
   "metadata": {},
   "outputs": [
    {
     "data": {
      "text/html": [
       "<div>\n",
       "<style scoped>\n",
       "    .dataframe tbody tr th:only-of-type {\n",
       "        vertical-align: middle;\n",
       "    }\n",
       "\n",
       "    .dataframe tbody tr th {\n",
       "        vertical-align: top;\n",
       "    }\n",
       "\n",
       "    .dataframe thead th {\n",
       "        text-align: right;\n",
       "    }\n",
       "</style>\n",
       "<table border=\"1\" class=\"dataframe\">\n",
       "  <thead>\n",
       "    <tr style=\"text-align: right;\">\n",
       "      <th></th>\n",
       "      <th>review_id</th>\n",
       "      <th>user_id</th>\n",
       "      <th>business_id</th>\n",
       "      <th>rating</th>\n",
       "      <th>content</th>\n",
       "      <th>createdAt</th>\n",
       "    </tr>\n",
       "  </thead>\n",
       "  <tbody>\n",
       "  </tbody>\n",
       "</table>\n",
       "</div>"
      ],
      "text/plain": [
       "Empty DataFrame\n",
       "Columns: [review_id, user_id, business_id, rating, content, createdAt]\n",
       "Index: []"
      ]
     },
     "execution_count": 303,
     "metadata": {},
     "output_type": "execute_result"
    }
   ],
   "source": [
    "filtered_reviews_df.loc[filtered_reviews_df.isnull().any(axis=1)]"
   ]
  },
  {
   "cell_type": "code",
   "execution_count": null,
   "metadata": {},
   "outputs": [
    {
     "data": {
      "text/plain": [
       "review_id      0\n",
       "user_id        0\n",
       "business_id    0\n",
       "rating         0\n",
       "content        0\n",
       "createdAt      0\n",
       "dtype: int64"
      ]
     },
     "execution_count": 304,
     "metadata": {},
     "output_type": "execute_result"
    }
   ],
   "source": [
    "filtered_reviews_df.isnull().sum()"
   ]
  },
  {
   "cell_type": "code",
   "execution_count": null,
   "metadata": {},
   "outputs": [],
   "source": [
    "filtered_reviews_df.to_csv('./data/reviews.csv', index=False)"
   ]
  },
  {
   "cell_type": "markdown",
   "metadata": {},
   "source": [
    "# **<div align=\"center\">`Analyzing Dataset`</div>**"
   ]
  },
  {
   "cell_type": "markdown",
   "metadata": {},
   "source": [
    "#### Box plot of rating indicates that mean is 3.5 and rating lies in range 1.5 and 5\n"
   ]
  },
  {
   "cell_type": "code",
   "execution_count": 366,
   "metadata": {},
   "outputs": [
    {
     "data": {
      "text/plain": [
       "<Axes: xlabel='rating'>"
      ]
     },
     "execution_count": 366,
     "metadata": {},
     "output_type": "execute_result"
    },
    {
     "data": {
      "image/png": "[encoded data removed]",
      "text/plain": [
       "<Figure size 640x480 with 1 Axes>"
      ]
     },
     "metadata": {},
     "output_type": "display_data"
    }
   ],
   "source": [
    "sns.boxplot(data=restaurants_df, x=\"rating\")"
   ]
  },
  {
   "cell_type": "markdown",
   "metadata": {},
   "source": [
    "#### **There are total 728 unique categories**\n"
   ]
  },
  {
   "cell_type": "code",
   "execution_count": 367,
   "metadata": {},
   "outputs": [
    {
     "data": {
      "text/html": [
       "<div>\n",
       "<style scoped>\n",
       "    .dataframe tbody tr th:only-of-type {\n",
       "        vertical-align: middle;\n",
       "    }\n",
       "\n",
       "    .dataframe tbody tr th {\n",
       "        vertical-align: top;\n",
       "    }\n",
       "\n",
       "    .dataframe thead th {\n",
       "        text-align: right;\n",
       "    }\n",
       "</style>\n",
       "<table border=\"1\" class=\"dataframe\">\n",
       "  <thead>\n",
       "    <tr style=\"text-align: right;\">\n",
       "      <th></th>\n",
       "      <th>categories</th>\n",
       "      <th>count</th>\n",
       "    </tr>\n",
       "  </thead>\n",
       "  <tbody>\n",
       "    <tr>\n",
       "      <th>0</th>\n",
       "      <td>Restaurants</td>\n",
       "      <td>51825</td>\n",
       "    </tr>\n",
       "    <tr>\n",
       "      <th>1</th>\n",
       "      <td>Food</td>\n",
       "      <td>15087</td>\n",
       "    </tr>\n",
       "    <tr>\n",
       "      <th>2</th>\n",
       "      <td>Nightlife</td>\n",
       "      <td>8716</td>\n",
       "    </tr>\n",
       "    <tr>\n",
       "      <th>3</th>\n",
       "      <td>Bars</td>\n",
       "      <td>8330</td>\n",
       "    </tr>\n",
       "    <tr>\n",
       "      <th>4</th>\n",
       "      <td>Sandwiches</td>\n",
       "      <td>8325</td>\n",
       "    </tr>\n",
       "    <tr>\n",
       "      <th>...</th>\n",
       "      <td>...</td>\n",
       "      <td>...</td>\n",
       "    </tr>\n",
       "    <tr>\n",
       "      <th>716</th>\n",
       "      <td>Community Centers</td>\n",
       "      <td>1</td>\n",
       "    </tr>\n",
       "    <tr>\n",
       "      <th>717</th>\n",
       "      <td>Rolfing</td>\n",
       "      <td>1</td>\n",
       "    </tr>\n",
       "    <tr>\n",
       "      <th>718</th>\n",
       "      <td>Check Cashing/Pay-day Loans</td>\n",
       "      <td>1</td>\n",
       "    </tr>\n",
       "    <tr>\n",
       "      <th>719</th>\n",
       "      <td>Kiosk</td>\n",
       "      <td>1</td>\n",
       "    </tr>\n",
       "    <tr>\n",
       "      <th>720</th>\n",
       "      <td>Gemstones &amp; Minerals</td>\n",
       "      <td>1</td>\n",
       "    </tr>\n",
       "  </tbody>\n",
       "</table>\n",
       "<p>721 rows × 2 columns</p>\n",
       "</div>"
      ],
      "text/plain": [
       "                      categories  count\n",
       "0                    Restaurants  51825\n",
       "1                           Food  15087\n",
       "2                      Nightlife   8716\n",
       "3                           Bars   8330\n",
       "4                     Sandwiches   8325\n",
       "..                           ...    ...\n",
       "716            Community Centers      1\n",
       "717                      Rolfing      1\n",
       "718  Check Cashing/Pay-day Loans      1\n",
       "719                        Kiosk      1\n",
       "720         Gemstones & Minerals      1\n",
       "\n",
       "[721 rows x 2 columns]"
      ]
     },
     "execution_count": 367,
     "metadata": {},
     "output_type": "execute_result"
    }
   ],
   "source": [
    "explodedDf = restaurants_df.assign(categories=restaurants_df['categories'].str.split(', ')).explode('categories')\n",
    "categoriesDf = explodedDf['categories'].value_counts().reset_index()\n",
    "categoriesDf.columns = ['categories', 'count']\n",
    "categoriesDf\n",
    "\n",
    "categoriesDf"
   ]
  },
  {
   "cell_type": "markdown",
   "metadata": {},
   "source": [
    "#### **Filter out the categories which are relevant to Restaurants or Food**\n"
   ]
  },
  {
   "cell_type": "code",
   "execution_count": 368,
   "metadata": {},
   "outputs": [
    {
     "name": "stdout",
     "output_type": "stream",
     "text": [
      "Categories Required: 145\n"
     ]
    }
   ],
   "source": [
    "# Provided list of categories\n",
    "categories = [\n",
    "    \"Sandwiches\", \"American (Traditional)\", \"Pizza\", \n",
    "    \"Fast Food\", \"Breakfast & Brunch\", \"American (New)\", \"Burgers\", \"Mexican\", \n",
    "    \"Italian\", \"Coffee & Tea\", \"Seafood\", \"Chinese\", \"Salad\", \"Chicken Wings\", \n",
    "    \"Cafes\", \"Delis\", \"Bakeries\", \"Desserts\", \"Japanese\", \"Sushi Bars\", \"Barbeque\",\n",
    "    \"Asian Fusion\", \"Steakhouses\", \"Diners\", \"Cocktail Bars\", \"Mediterranean\",\n",
    "    \"Vegetarian\", \"Ice Cream & Frozen Yogurt\", \"Soup\", \"Tacos\", \"Juice Bars & Smoothies\",\n",
    "    \"Southern\", \"Thai\", \"Cajun/Creole\", \"Tex-Mex\", \"Vegan\", \"Vietnamese\", \"Indian\",\n",
    "    \"Latin American\", \"Chicken Shop\", \"Greek\", \"Hot Dogs\", \"Cheesesteaks\",\n",
    "    \"Bagels\", \"Caribbean\", \"Middle Eastern\", \"Soul Food\", \"Ethnic Food\",\n",
    "    \"French\", \"Korean\", \"Donuts\", \"Noodles\", \"Halal\", \"Wraps\", \"Spanish\",\n",
    "    \"Cuban\", \"Bubble Tea\", \"Canadian (New)\", \"Pakistani\", \"Ramen\", \"Irish\",\n",
    "    \"Fish & Chips\", \"Waffles\", \"Poke\", \"Hawaiian\", \"Acai Bowls\", \"Dim Sum\",\n",
    "    \"Modern European\", \"German\", \"Fruits & Veggies\", \"African\",\n",
    "    \"Szechuan\", \"New Mexican Cuisine\", \"Filipino\", \"Falafel\", \"Pretzels\",\n",
    "    \"Puerto Rican\", \"Cupcakes\", \"Cantonese\", \"Gelato\", \"Kebab\", \"Turkish\",\n",
    "    \"Lebanese\", \"Peruvian\", \"Taiwanese\", \"Brazilian\", \"Donairs\", \"Hot Pot\",\n",
    "    \"British\", \"Kosher\", \"Pan Asian\", \"Colombian\", \"Ethiopian\", \"Salvadoran\",\n",
    "    \"Patisserie/Cake Shop\", \"Empanadas\", \"Moroccan\", \"Venezuelan\", \"Laotian\",\n",
    "    \"Afghan\", \"Dominican\", \"Polish\", \"Russian\", \"Persian/Iranian\", \"Basque\",\n",
    "    \"Teppanyaki\", \"Mongolian\", \"Arabic\", \"Argentine\", \"Portuguese\", \"Malaysian\",\n",
    "    \"Fondue\", \"Poutineries\", \"Honduran\", \"Belgian\", \"Indonesian\", \"Himalayan/Nepalese\",\n",
    "    \"Haitian\", \"Burmese\", \"Macarons\", \"Ukrainian\", \"Cambodian\", \"Trinidadian\",\n",
    "    \"Shanghainese\", \"Egyptian\", \"Armenian\", \"Pancakes\", \"Bangladeshi\", \"Australian\",\n",
    "    \"Scandinavian\", \"Iberian\", \"Syrian\", \"Singaporean\", \"Uzbek\", \"Tuscan\",\n",
    "    \"South African\", \"Czech\", \"Hungarian\", \"Senegalese\", \"Nicaraguan\", \"Austrian\",\n",
    "    \"Scottish\", \"Sardinian\", \"Georgian\", \"Sri Lankan\"\n",
    "]\n",
    "\n",
    "print(\"Categories Required:\",len(categories)) "
   ]
  },
  {
   "cell_type": "code",
   "execution_count": 369,
   "metadata": {},
   "outputs": [
    {
     "data": {
      "text/html": [
       "<div>\n",
       "<style scoped>\n",
       "    .dataframe tbody tr th:only-of-type {\n",
       "        vertical-align: middle;\n",
       "    }\n",
       "\n",
       "    .dataframe tbody tr th {\n",
       "        vertical-align: top;\n",
       "    }\n",
       "\n",
       "    .dataframe thead th {\n",
       "        text-align: right;\n",
       "    }\n",
       "</style>\n",
       "<table border=\"1\" class=\"dataframe\">\n",
       "  <thead>\n",
       "    <tr style=\"text-align: right;\">\n",
       "      <th></th>\n",
       "      <th>business_id</th>\n",
       "      <th>name</th>\n",
       "      <th>city</th>\n",
       "      <th>address</th>\n",
       "      <th>longitude</th>\n",
       "      <th>latitude</th>\n",
       "      <th>rating</th>\n",
       "      <th>review_count</th>\n",
       "      <th>categories</th>\n",
       "    </tr>\n",
       "  </thead>\n",
       "  <tbody>\n",
       "    <tr>\n",
       "      <th>3</th>\n",
       "      <td>MTSW4McQd7CbVtyjqoe9mw</td>\n",
       "      <td>St Honore Pastries</td>\n",
       "      <td>Philadelphia</td>\n",
       "      <td>935 Race St</td>\n",
       "      <td>-75.155564</td>\n",
       "      <td>39.955505</td>\n",
       "      <td>4.0</td>\n",
       "      <td>80</td>\n",
       "      <td>Bubble Tea</td>\n",
       "    </tr>\n",
       "    <tr>\n",
       "      <th>3</th>\n",
       "      <td>MTSW4McQd7CbVtyjqoe9mw</td>\n",
       "      <td>St Honore Pastries</td>\n",
       "      <td>Philadelphia</td>\n",
       "      <td>935 Race St</td>\n",
       "      <td>-75.155564</td>\n",
       "      <td>39.955505</td>\n",
       "      <td>4.0</td>\n",
       "      <td>80</td>\n",
       "      <td>Coffee &amp; Tea</td>\n",
       "    </tr>\n",
       "    <tr>\n",
       "      <th>3</th>\n",
       "      <td>MTSW4McQd7CbVtyjqoe9mw</td>\n",
       "      <td>St Honore Pastries</td>\n",
       "      <td>Philadelphia</td>\n",
       "      <td>935 Race St</td>\n",
       "      <td>-75.155564</td>\n",
       "      <td>39.955505</td>\n",
       "      <td>4.0</td>\n",
       "      <td>80</td>\n",
       "      <td>Bakeries</td>\n",
       "    </tr>\n",
       "    <tr>\n",
       "      <th>5</th>\n",
       "      <td>CF33F8-E6oudUQ46HnavjQ</td>\n",
       "      <td>Sonic Drive-In</td>\n",
       "      <td>Ashland City</td>\n",
       "      <td>615 S Main St</td>\n",
       "      <td>-87.058943</td>\n",
       "      <td>36.269593</td>\n",
       "      <td>2.0</td>\n",
       "      <td>6</td>\n",
       "      <td>Burgers</td>\n",
       "    </tr>\n",
       "    <tr>\n",
       "      <th>5</th>\n",
       "      <td>CF33F8-E6oudUQ46HnavjQ</td>\n",
       "      <td>Sonic Drive-In</td>\n",
       "      <td>Ashland City</td>\n",
       "      <td>615 S Main St</td>\n",
       "      <td>-87.058943</td>\n",
       "      <td>36.269593</td>\n",
       "      <td>2.0</td>\n",
       "      <td>6</td>\n",
       "      <td>Fast Food</td>\n",
       "    </tr>\n",
       "  </tbody>\n",
       "</table>\n",
       "</div>"
      ],
      "text/plain": [
       "              business_id                name          city        address  \\\n",
       "3  MTSW4McQd7CbVtyjqoe9mw  St Honore Pastries  Philadelphia    935 Race St   \n",
       "3  MTSW4McQd7CbVtyjqoe9mw  St Honore Pastries  Philadelphia    935 Race St   \n",
       "3  MTSW4McQd7CbVtyjqoe9mw  St Honore Pastries  Philadelphia    935 Race St   \n",
       "5  CF33F8-E6oudUQ46HnavjQ      Sonic Drive-In  Ashland City  615 S Main St   \n",
       "5  CF33F8-E6oudUQ46HnavjQ      Sonic Drive-In  Ashland City  615 S Main St   \n",
       "\n",
       "   longitude   latitude  rating  review_count    categories  \n",
       "3 -75.155564  39.955505     4.0            80    Bubble Tea  \n",
       "3 -75.155564  39.955505     4.0            80  Coffee & Tea  \n",
       "3 -75.155564  39.955505     4.0            80      Bakeries  \n",
       "5 -87.058943  36.269593     2.0             6       Burgers  \n",
       "5 -87.058943  36.269593     2.0             6     Fast Food  "
      ]
     },
     "execution_count": 369,
     "metadata": {},
     "output_type": "execute_result"
    }
   ],
   "source": [
    "filteredDf = explodedDf[explodedDf['categories'].isin(categories)]\n",
    "filteredDf.head(5)"
   ]
  },
  {
   "cell_type": "code",
   "execution_count": 370,
   "metadata": {},
   "outputs": [],
   "source": [
    "def remove_parentheses(text):\n",
    "    if '(' in text:\n",
    "        return text.split(' (', 1)[0]\n",
    "    return text\n",
    "\n",
    "filteredDf.loc[:, 'categories'] = filteredDf['categories'].apply(remove_parentheses)"
   ]
  },
  {
   "cell_type": "markdown",
   "metadata": {},
   "source": [
    "#### **Dropping Duplicates**\n"
   ]
  },
  {
   "cell_type": "code",
   "execution_count": 371,
   "metadata": {},
   "outputs": [
    {
     "data": {
      "text/plain": [
       "(1886, 9)"
      ]
     },
     "execution_count": 371,
     "metadata": {},
     "output_type": "execute_result"
    }
   ],
   "source": [
    "duplicate_rows = filteredDf[filteredDf.duplicated(subset=['business_id', 'categories'])]\n",
    "duplicate_rows.shape"
   ]
  },
  {
   "cell_type": "code",
   "execution_count": 372,
   "metadata": {},
   "outputs": [],
   "source": [
    "filteredDf = filteredDf.drop_duplicates(subset=['business_id', 'categories'], keep='first')"
   ]
  },
  {
   "cell_type": "code",
   "execution_count": 373,
   "metadata": {},
   "outputs": [
    {
     "name": "stdout",
     "output_type": "stream",
     "text": [
      "Restaurants after filter: 50843\n"
     ]
    },
    {
     "data": {
      "text/html": [
       "<div>\n",
       "<style scoped>\n",
       "    .dataframe tbody tr th:only-of-type {\n",
       "        vertical-align: middle;\n",
       "    }\n",
       "\n",
       "    .dataframe tbody tr th {\n",
       "        vertical-align: top;\n",
       "    }\n",
       "\n",
       "    .dataframe thead th {\n",
       "        text-align: right;\n",
       "    }\n",
       "</style>\n",
       "<table border=\"1\" class=\"dataframe\">\n",
       "  <thead>\n",
       "    <tr style=\"text-align: right;\">\n",
       "      <th></th>\n",
       "      <th>business_id</th>\n",
       "      <th>address</th>\n",
       "      <th>city</th>\n",
       "      <th>latitude</th>\n",
       "      <th>longitude</th>\n",
       "      <th>name</th>\n",
       "      <th>rating</th>\n",
       "      <th>review_count</th>\n",
       "      <th>categories</th>\n",
       "    </tr>\n",
       "  </thead>\n",
       "  <tbody>\n",
       "    <tr>\n",
       "      <th>0</th>\n",
       "      <td>---kPU91CF4Lq2-WlRu9Lw</td>\n",
       "      <td>4903 State Rd 54</td>\n",
       "      <td>New Port Richey</td>\n",
       "      <td>28.217288</td>\n",
       "      <td>-82.733344</td>\n",
       "      <td>Frankie's Raw Bar</td>\n",
       "      <td>4.5</td>\n",
       "      <td>24</td>\n",
       "      <td>Seafood, Latin American</td>\n",
       "    </tr>\n",
       "    <tr>\n",
       "      <th>1</th>\n",
       "      <td>--0iUa4sNDFiZFrAdIWhZQ</td>\n",
       "      <td>6 S White Horse Pike</td>\n",
       "      <td>Clementon</td>\n",
       "      <td>39.817850</td>\n",
       "      <td>-74.993364</td>\n",
       "      <td>Pupuseria Y Restaurant Melba</td>\n",
       "      <td>3.0</td>\n",
       "      <td>14</td>\n",
       "      <td>Mexican, Ethnic Food</td>\n",
       "    </tr>\n",
       "    <tr>\n",
       "      <th>2</th>\n",
       "      <td>--7PUidqRWpRSpXebiyxTg</td>\n",
       "      <td>9910 108A Avenue</td>\n",
       "      <td>Edmonton</td>\n",
       "      <td>53.554659</td>\n",
       "      <td>-113.493040</td>\n",
       "      <td>Humpty's Family Restaurant</td>\n",
       "      <td>2.0</td>\n",
       "      <td>12</td>\n",
       "      <td>Breakfast &amp; Brunch</td>\n",
       "    </tr>\n",
       "    <tr>\n",
       "      <th>3</th>\n",
       "      <td>--8IbOsAAxjKRoYsBFL-PA</td>\n",
       "      <td>4706 Paris Ave</td>\n",
       "      <td>Gentilly</td>\n",
       "      <td>30.006341</td>\n",
       "      <td>-90.074523</td>\n",
       "      <td>The Original Italian Pie</td>\n",
       "      <td>3.0</td>\n",
       "      <td>27</td>\n",
       "      <td>Italian</td>\n",
       "    </tr>\n",
       "    <tr>\n",
       "      <th>4</th>\n",
       "      <td>--ZVrH2X2QXBFdCilbirsw</td>\n",
       "      <td>1531 W Wynnewood Rd</td>\n",
       "      <td>Ardmore</td>\n",
       "      <td>39.997299</td>\n",
       "      <td>-75.292207</td>\n",
       "      <td>Chris's Sandwich Shop</td>\n",
       "      <td>4.5</td>\n",
       "      <td>32</td>\n",
       "      <td>American, Pizza, Sandwiches, Wraps, Delis, Salad</td>\n",
       "    </tr>\n",
       "  </tbody>\n",
       "</table>\n",
       "</div>"
      ],
      "text/plain": [
       "              business_id               address             city   latitude  \\\n",
       "0  ---kPU91CF4Lq2-WlRu9Lw      4903 State Rd 54  New Port Richey  28.217288   \n",
       "1  --0iUa4sNDFiZFrAdIWhZQ  6 S White Horse Pike        Clementon  39.817850   \n",
       "2  --7PUidqRWpRSpXebiyxTg      9910 108A Avenue         Edmonton  53.554659   \n",
       "3  --8IbOsAAxjKRoYsBFL-PA        4706 Paris Ave         Gentilly  30.006341   \n",
       "4  --ZVrH2X2QXBFdCilbirsw   1531 W Wynnewood Rd          Ardmore  39.997299   \n",
       "\n",
       "    longitude                          name  rating  review_count  \\\n",
       "0  -82.733344             Frankie's Raw Bar     4.5            24   \n",
       "1  -74.993364  Pupuseria Y Restaurant Melba     3.0            14   \n",
       "2 -113.493040    Humpty's Family Restaurant     2.0            12   \n",
       "3  -90.074523      The Original Italian Pie     3.0            27   \n",
       "4  -75.292207         Chris's Sandwich Shop     4.5            32   \n",
       "\n",
       "                                         categories  \n",
       "0                           Seafood, Latin American  \n",
       "1                              Mexican, Ethnic Food  \n",
       "2                                Breakfast & Brunch  \n",
       "3                                           Italian  \n",
       "4  American, Pizza, Sandwiches, Wraps, Delis, Salad  "
      ]
     },
     "execution_count": 373,
     "metadata": {},
     "output_type": "execute_result"
    }
   ],
   "source": [
    "# Define the columns to aggregate, excluding the 'categories' column\n",
    "columns_to_aggregate = filteredDf.columns.difference(['categories', 'business_id'])\n",
    "\n",
    "# Create a dictionary to store aggregation functions for each column\n",
    "agg_functions = {col: 'first' for col in columns_to_aggregate}\n",
    "\n",
    "# Add the aggregation function for the 'categories' column\n",
    "agg_functions['categories'] = lambda x: ', '.join(x)\n",
    "\n",
    "# Group by 'business_id' and aggregate using the agg_functions dictionary\n",
    "clean_restaurants_df = filteredDf.groupby('business_id').agg(agg_functions).reset_index()\n",
    "\n",
    "print(\"Restaurants after filter:\",len(clean_restaurants_df))\n",
    "\n",
    "clean_restaurants_df.head(5)"
   ]
  },
  {
   "cell_type": "code",
   "execution_count": 374,
   "metadata": {},
   "outputs": [],
   "source": [
    "clean_restaurants_df.to_csv('./data/restaurants.csv', index=False)"
   ]
  },
  {
   "cell_type": "markdown",
   "metadata": {},
   "source": [
    "# **<div align=\"center\">`Visualizing`</div>**"
   ]
  },
  {
   "cell_type": "markdown",
   "metadata": {},
   "source": [
    "#### **Top 5 Cities with most Restaurants**\n"
   ]
  },
  {
   "cell_type": "code",
   "execution_count": 375,
   "metadata": {},
   "outputs": [
    {
     "data": {
      "image/png": "[encoded data removed]",
      "text/plain": [
       "<Figure size 1000x600 with 1 Axes>"
      ]
     },
     "metadata": {},
     "output_type": "display_data"
    }
   ],
   "source": [
    "top_5_cities = clean_restaurants_df.groupby('city').size().sort_values(ascending=False).head(5)\n",
    "\n",
    "plt.figure(figsize=(10, 6))\n",
    "\n",
    "barplot = sns.barplot(x=top_5_cities.index, y=top_5_cities.values, hue=top_5_cities.index, palette=\"pastel\", order=top_5_cities.index)\n",
    "\n",
    "for index, value in enumerate(top_5_cities.values):\n",
    "    barplot.text(index, value/2, str(value), ha='center', color='black', fontsize=10)\n",
    "\n",
    "plt.xlabel('City')\n",
    "plt.ylabel('Count')\n",
    "plt.title('Top 5 Cities with the Most Restaurants')\n",
    "\n",
    "plt.show()\n"
   ]
  },
  {
   "cell_type": "markdown",
   "metadata": {},
   "source": [
    "#### **Mean Rating of Restaurants in a City**\n"
   ]
  },
  {
   "cell_type": "code",
   "execution_count": 376,
   "metadata": {},
   "outputs": [
    {
     "data": {
      "image/png": "[encoded data removed]",
      "text/plain": [
       "<Figure size 1200x600 with 1 Axes>"
      ]
     },
     "metadata": {},
     "output_type": "display_data"
    }
   ],
   "source": [
    "# Group by City and calculate the mean rating\n",
    "cities_group = clean_restaurants_df.groupby('city')\n",
    "mean_ratings = cities_group['rating'].mean()\n",
    "\n",
    "city_counts = cities_group.size()\n",
    "city_stats = pd.DataFrame({'Mean Rating': mean_ratings, 'Count': city_counts})\n",
    "city_stats_sorted = city_stats.sort_values(by=['Count', 'Mean Rating'], ascending=[False, False]).head(20)\n",
    "\n",
    "plt.figure(figsize=(12, 6))\n",
    "\n",
    "plt.plot(city_stats_sorted.index, city_stats_sorted['Mean Rating'], marker='o', linestyle='-', color='b')\n",
    "\n",
    "for city in city_stats_sorted.index:\n",
    "    plt.annotate(f'{city_stats_sorted.loc[city, \"Count\"]}', (city, city_stats_sorted.loc[city, \"Mean Rating\"]), \n",
    "                 textcoords=\"offset points\", xytext=(0,10), ha='center')\n",
    "\n",
    "plt.xlabel('City')\n",
    "plt.ylabel('Mean Rating')\n",
    "plt.title('Mean Ratings of Restaurants in Each City according to Restaurant Count')\n",
    "\n",
    "plt.xticks(rotation=30, ha='right')\n",
    "\n",
    "plt.tight_layout()\n",
    "plt.show()\n"
   ]
  },
  {
   "cell_type": "markdown",
   "metadata": {},
   "source": [
    "#### **Rating Distribution**\n"
   ]
  },
  {
   "cell_type": "code",
   "execution_count": 377,
   "metadata": {},
   "outputs": [
    {
     "data": {
      "image/png": "[encoded data removed]",
      "text/plain": [
       "<Figure size 1500x600 with 1 Axes>"
      ]
     },
     "metadata": {},
     "output_type": "display_data"
    }
   ],
   "source": [
    "color_palette = sns.color_palette(\"viridis\", n_colors=len(clean_restaurants_df['rating'].unique()))\n",
    "\n",
    "fig, ax = plt.subplots(figsize=(15, 6))\n",
    "sns.countplot(data=clean_restaurants_df, x='rating', palette=color_palette, hue='rating')\n",
    "\n",
    "plt.title('Rating Count Plot')\n",
    "\n",
    "plt.show()"
   ]
  },
  {
   "cell_type": "markdown",
   "metadata": {},
   "source": [
    "#### **Top 5 Categories**\n"
   ]
  },
  {
   "cell_type": "code",
   "execution_count": 378,
   "metadata": {},
   "outputs": [
    {
     "data": {
      "image/png": "[encoded data removed]",
      "text/plain": [
       "<Figure size 1200x800 with 1 Axes>"
      ]
     },
     "metadata": {},
     "output_type": "display_data"
    }
   ],
   "source": [
    "explodedDf = clean_restaurants_df.assign(categories=clean_restaurants_df['categories'].str.split(', ')).explode('categories')\n",
    "top_5_categories = explodedDf['categories'].value_counts().reset_index().head(5)\n",
    "top_5_categories.columns = ['categories', 'count']\n",
    "\n",
    "total_restaurants = top_5_categories['count'].sum()\n",
    "\n",
    "plt.figure(figsize=(12, 8))\n",
    "\n",
    "plt.pie(top_5_categories['count'], labels=top_5_categories['categories'], autopct=lambda p: '{:.1f}%\\n({:.0f})'.format(p, p/100 * top_5_categories['count'].sum()), startangle=140, colors=sns.color_palette(\"pastel\"))\n",
    "\n",
    "plt.title(f'Top 5 Categories \\n ( {total_restaurants} ) Restaurants')\n",
    "plt.show()"
   ]
  },
  {
   "cell_type": "markdown",
   "metadata": {},
   "source": [
    "# **<div align=\"center\">`Sentiment Analysis`</div>**"
   ]
  }
 ],
 "metadata": {
  "kernelspec": {
   "display_name": "Python 3",
   "language": "python",
   "name": "python3"
  },
  "language_info": {
   "codemirror_mode": {
    "name": "ipython",
    "version": 3
   },
   "file_extension": ".py",
   "mimetype": "text/x-python",
   "name": "python",
   "nbconvert_exporter": "python",
   "pygments_lexer": "ipython3",
   "version": "3.11.5"
  }
 },
 "nbformat": 4,
 "nbformat_minor": 2
}
