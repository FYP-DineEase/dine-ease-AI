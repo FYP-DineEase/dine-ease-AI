{
 "cells": [
  {
   "cell_type": "markdown",
   "metadata": {},
   "source": [
    "## **Imports**\n"
   ]
  },
  {
   "cell_type": "code",
   "execution_count": 3,
   "metadata": {},
   "outputs": [],
   "source": [
    "import os\n",
    "import json\n",
    "import folium\n",
    "import numpy as np\n",
    "import pandas as pd\n",
    "import seaborn as sns\n",
    "import matplotlib.pyplot as plt\n",
    "from wordcloud import WordCloud\n",
    "from geopy.geocoders import Nominatim\n",
    "from IPython.display import display, HTML\n",
    "from sklearn.metrics.pairwise import linear_kernel\n",
    "from sklearn.feature_extraction.text import TfidfVectorizer"
   ]
  },
  {
   "cell_type": "markdown",
   "metadata": {},
   "source": [
    "## **Overriding Defaults**\n"
   ]
  },
  {
   "cell_type": "code",
   "execution_count": 2,
   "metadata": {},
   "outputs": [],
   "source": [
    "pd.set_option('display.max_rows', 20)"
   ]
  },
  {
   "cell_type": "markdown",
   "metadata": {},
   "source": [
    "## **Loading Dataset**\n"
   ]
  },
  {
   "cell_type": "code",
   "execution_count": 8,
   "metadata": {},
   "outputs": [],
   "source": [
    "restaurantsDf = pd.read_csv('./data/registered_restaurants.csv', encoding='latin-1')\n",
    "reviewsDf = pd.read_csv('./data/modified_reviews.csv', encoding='latin-1')"
   ]
  },
  {
   "cell_type": "code",
   "execution_count": 9,
   "metadata": {},
   "outputs": [
    {
     "data": {
      "text/html": [
       "<div>\n",
       "<style scoped>\n",
       "    .dataframe tbody tr th:only-of-type {\n",
       "        vertical-align: middle;\n",
       "    }\n",
       "\n",
       "    .dataframe tbody tr th {\n",
       "        vertical-align: top;\n",
       "    }\n",
       "\n",
       "    .dataframe thead th {\n",
       "        text-align: right;\n",
       "    }\n",
       "</style>\n",
       "<table border=\"1\" class=\"dataframe\">\n",
       "  <thead>\n",
       "    <tr style=\"text-align: right;\">\n",
       "      <th></th>\n",
       "      <th>business_id</th>\n",
       "      <th>address</th>\n",
       "      <th>city</th>\n",
       "      <th>latitude</th>\n",
       "      <th>longitude</th>\n",
       "      <th>name</th>\n",
       "      <th>rating</th>\n",
       "      <th>review_count</th>\n",
       "      <th>categories</th>\n",
       "      <th>slug</th>\n",
       "      <th>id</th>\n",
       "      <th>userId</th>\n",
       "    </tr>\n",
       "  </thead>\n",
       "  <tbody>\n",
       "    <tr>\n",
       "      <th>0</th>\n",
       "      <td>---kPU91CF4Lq2-WlRu9Lw</td>\n",
       "      <td>4903 State Rd 54</td>\n",
       "      <td>New Port Richey</td>\n",
       "      <td>28.217288</td>\n",
       "      <td>-82.733344</td>\n",
       "      <td>Frankie's Raw Bar</td>\n",
       "      <td>4.5</td>\n",
       "      <td>24</td>\n",
       "      <td>Seafood, Latin American</td>\n",
       "      <td>frankies-raw-bar</td>\n",
       "      <td>65eda330d745307cb1a92556</td>\n",
       "      <td>65d8e5f75b89ca028e3fd8cb</td>\n",
       "    </tr>\n",
       "  </tbody>\n",
       "</table>\n",
       "</div>"
      ],
      "text/plain": [
       "              business_id           address             city   latitude  \\\n",
       "0  ---kPU91CF4Lq2-WlRu9Lw  4903 State Rd 54  New Port Richey  28.217288   \n",
       "\n",
       "   longitude               name  rating  review_count  \\\n",
       "0 -82.733344  Frankie's Raw Bar     4.5            24   \n",
       "\n",
       "                categories              slug                        id  \\\n",
       "0  Seafood, Latin American  frankies-raw-bar  65eda330d745307cb1a92556   \n",
       "\n",
       "                     userId  \n",
       "0  65d8e5f75b89ca028e3fd8cb  "
      ]
     },
     "execution_count": 9,
     "metadata": {},
     "output_type": "execute_result"
    }
   ],
   "source": [
    "restaurantsDf.head(1)"
   ]
  },
  {
   "cell_type": "code",
   "execution_count": 10,
   "metadata": {},
   "outputs": [
    {
     "data": {
      "text/html": [
       "<div>\n",
       "<style scoped>\n",
       "    .dataframe tbody tr th:only-of-type {\n",
       "        vertical-align: middle;\n",
       "    }\n",
       "\n",
       "    .dataframe tbody tr th {\n",
       "        vertical-align: top;\n",
       "    }\n",
       "\n",
       "    .dataframe thead th {\n",
       "        text-align: right;\n",
       "    }\n",
       "</style>\n",
       "<table border=\"1\" class=\"dataframe\">\n",
       "  <thead>\n",
       "    <tr style=\"text-align: right;\">\n",
       "      <th></th>\n",
       "      <th>id</th>\n",
       "      <th>review_id</th>\n",
       "      <th>user_id</th>\n",
       "      <th>restaurant_id</th>\n",
       "      <th>slug</th>\n",
       "      <th>rating</th>\n",
       "      <th>content</th>\n",
       "      <th>createdAt</th>\n",
       "    </tr>\n",
       "  </thead>\n",
       "  <tbody>\n",
       "    <tr>\n",
       "      <th>0</th>\n",
       "      <td>65eddbf4b6474deda4d94197</td>\n",
       "      <td>zM7u3iffMjniyvQAaN9Tnw</td>\n",
       "      <td>65d92f185b89ca028e45e930</td>\n",
       "      <td>65eda92ad745307cb1a957d3</td>\n",
       "      <td>nSi0NLoRHw</td>\n",
       "      <td>1.0</td>\n",
       "      <td>So disappointing on so many levels. Have been ...</td>\n",
       "      <td>2012-05-29 03:51:08</td>\n",
       "    </tr>\n",
       "  </tbody>\n",
       "</table>\n",
       "</div>"
      ],
      "text/plain": [
       "                         id               review_id                   user_id  \\\n",
       "0  65eddbf4b6474deda4d94197  zM7u3iffMjniyvQAaN9Tnw  65d92f185b89ca028e45e930   \n",
       "\n",
       "              restaurant_id        slug  rating  \\\n",
       "0  65eda92ad745307cb1a957d3  nSi0NLoRHw     1.0   \n",
       "\n",
       "                                             content            createdAt  \n",
       "0  So disappointing on so many levels. Have been ...  2012-05-29 03:51:08  "
      ]
     },
     "execution_count": 10,
     "metadata": {},
     "output_type": "execute_result"
    }
   ],
   "source": [
    "reviewsDf.head(1)"
   ]
  },
  {
   "cell_type": "markdown",
   "metadata": {},
   "source": [
    "# **<div align=\"center\">`User Data`</div>**"
   ]
  },
  {
   "cell_type": "code",
   "execution_count": 1,
   "metadata": {},
   "outputs": [],
   "source": [
    "userId = \"65d94d8d5b89ca028e47d7f6\""
   ]
  },
  {
   "cell_type": "code",
   "execution_count": 4,
   "metadata": {},
   "outputs": [
    {
     "name": "stdout",
     "output_type": "stream",
     "text": [
      "User City: New Delhi\n"
     ]
    }
   ],
   "source": [
    "# Initialize a geolocator\n",
    "geolocator = Nominatim(user_agent=\"RRS\")\n",
    "\n",
    "# Geocoding - Get address components from coordinates\n",
    "location = geolocator.reverse((user_coordinates[0], user_coordinates[1]), language=\"en\")\n",
    "address_components = location.raw.get(\"address\", {})\n",
    "\n",
    "# Extract the city\n",
    "user_city = address_components.get(\"city\", \"City not found\")\n",
    "print(\"User City:\", user_city)"
   ]
  },
  {
   "cell_type": "code",
   "execution_count": 11,
   "metadata": {},
   "outputs": [
    {
     "data": {
      "text/plain": [
       "<folium.map.Marker at 0x232de388610>"
      ]
     },
     "execution_count": 11,
     "metadata": {},
     "output_type": "execute_result"
    }
   ],
   "source": [
    "# Center the map around the user location\n",
    "map_center = [user_coordinates[0], user_coordinates[1]]\n",
    "user_location = folium.Map(location=map_center, zoom_start=15)\n",
    "folium.Marker(location=user_coordinates, popup=\"User Location\").add_to(user_location)\n",
    "\n",
    "# Display the map\n",
    "# user_location"
   ]
  },
  {
   "cell_type": "markdown",
   "metadata": {},
   "source": [
    "## **User Preferred Cuisine**\n"
   ]
  },
  {
   "cell_type": "code",
   "execution_count": 15,
   "metadata": {},
   "outputs": [
    {
     "data": {
      "text/html": [
       "<div>\n",
       "<style scoped>\n",
       "    .dataframe tbody tr th:only-of-type {\n",
       "        vertical-align: middle;\n",
       "    }\n",
       "\n",
       "    .dataframe tbody tr th {\n",
       "        vertical-align: top;\n",
       "    }\n",
       "\n",
       "    .dataframe thead th {\n",
       "        text-align: right;\n",
       "    }\n",
       "</style>\n",
       "<table border=\"1\" class=\"dataframe\">\n",
       "  <thead>\n",
       "    <tr style=\"text-align: right;\">\n",
       "      <th></th>\n",
       "      <th>business_id</th>\n",
       "      <th>address</th>\n",
       "      <th>city</th>\n",
       "      <th>latitude</th>\n",
       "      <th>longitude</th>\n",
       "      <th>name</th>\n",
       "      <th>rating</th>\n",
       "      <th>review_count</th>\n",
       "      <th>categories</th>\n",
       "      <th>slug</th>\n",
       "      <th>id</th>\n",
       "      <th>userId</th>\n",
       "    </tr>\n",
       "  </thead>\n",
       "  <tbody>\n",
       "  </tbody>\n",
       "</table>\n",
       "</div>"
      ],
      "text/plain": [
       "Empty DataFrame\n",
       "Columns: [business_id, address, city, latitude, longitude, name, rating, review_count, categories, slug, id, userId]\n",
       "Index: []"
      ]
     },
     "execution_count": 15,
     "metadata": {},
     "output_type": "execute_result"
    }
   ],
   "source": [
    "restaurant_ids = [reviewsDf['restaurantId'] for reviewsDf in user_reviews_data]\n",
    "reviewed_data = restaurantsDf[restaurantsDf['id'].isin(restaurant_ids)].reset_index(drop=True)\n",
    "reviewed_data"
   ]
  },
  {
   "cell_type": "code",
   "execution_count": null,
   "metadata": {},
   "outputs": [],
   "source": [
    "# unique set of cuisines\n",
    "preferred_cuisines = set()\n",
    "\n",
    "# Iterate through rows in the DataFrame\n",
    "for row in reviewed_data.itertuples():\n",
    "    cuisines = row.Cuisines.split(', ')\n",
    "    preferred_cuisines.update(cuisines)\n",
    "\n",
    "# Create a text string with cuisines for the word cloud\n",
    "cuisines_text = ', '.join(preferred_cuisines)\n",
    "\n",
    "# Generate a word cloud with a custom color map and black background\n",
    "wordcloud = WordCloud(width=800, height=300, background_color='white').generate(cuisines_text)\n",
    "\n",
    "# Display the word cloud using matplotlib\n",
    "plt.figure(figsize=(10, 5))\n",
    "plt.imshow(wordcloud, interpolation='bilinear')\n",
    "plt.axis('off')\n",
    "plt.show()"
   ]
  },
  {
   "cell_type": "code",
   "execution_count": null,
   "metadata": {},
   "outputs": [],
   "source": [
    "# Split the 'Cuisines' column into a list of cuisines and explode the DataFrame\n",
    "reviewed_data_exploded = reviewed_data.assign(Cuisines=reviewed_data['Cuisines'].str.split(', ')).explode('Cuisines')\n",
    "\n",
    "# Count the number of restaurants for each cuisine in the city\n",
    "reviewed_data_cuisines = reviewed_data_exploded['Cuisines'].value_counts()\n",
    "\n",
    "# Create a pie chart\n",
    "plt.figure(figsize=(12, 8))\n",
    "plt.pie(reviewed_data_cuisines, labels=reviewed_data_cuisines.index, autopct='%1.1f%%', startangle=140, colors=sns.color_palette(\"pastel\"))\n",
    "plt.title('User Preferred Cuisines')\n",
    "plt.show()"
   ]
  },
  {
   "cell_type": "code",
   "execution_count": null,
   "metadata": {},
   "outputs": [],
   "source": [
    "# Create a copy of the DataFrame\n",
    "filteredDf = newDf[newDf['City'] == user_city]\n",
    "\n",
    "# Reset the index of the filtered DataFrame\n",
    "filteredDf = filteredDf.drop_duplicates(subset='Restaurant Name').reset_index(drop=True)\n",
    "\n",
    "# Print the filtered DataFrame\n",
    "filteredDf"
   ]
  },
  {
   "cell_type": "markdown",
   "metadata": {},
   "source": [
    "# **<div align=\"center\">`Vector Space Model`</div>**"
   ]
  },
  {
   "cell_type": "code",
   "execution_count": null,
   "metadata": {},
   "outputs": [],
   "source": [
    "# Create a TF-IDF vectorizer to convert cuisines into numerical data\n",
    "tfidf_vectorizer = TfidfVectorizer(stop_words='english')\n",
    "tfidf_matrix = tfidf_vectorizer.fit_transform(filteredDf[\"Cuisines\"].tolist())\n",
    "\n",
    "# Compute the cosine similarity between cuisines\n",
    "cosine_sim = linear_kernel(tfidf_matrix, tfidf_matrix)\n",
    "cosine_sim.shape"
   ]
  },
  {
   "cell_type": "code",
   "execution_count": null,
   "metadata": {},
   "outputs": [],
   "source": [
    "# Plotting the cosine similarity matrix\n",
    "\n",
    "# Sample size to show relations\n",
    "sample_size = 5\n",
    "sampled_cosine_sim = cosine_sim[:sample_size, :sample_size]\n",
    "\n",
    "plt.figure(figsize=(10, 8))\n",
    "\n",
    "# Generate heatmap\n",
    "sns.heatmap(sampled_cosine_sim, annot=True, cmap='coolwarm', xticklabels=filteredDf.index[:sample_size], yticklabels=filteredDf.index[:sample_size])\n",
    "\n",
    "# Rotate the y-axis labels for better readability\n",
    "plt.yticks(rotation=0)\n",
    "\n",
    "# Set x-axis and y-axis labels using sampled indices\n",
    "plt.xticks(np.arange(sample_size), filteredDf.index[:sample_size])\n",
    "plt.yticks(np.arange(sample_size), filteredDf.index[:sample_size])\n",
    "\n",
    "# labels and title\n",
    "plt.xlabel('Restaurant Index')\n",
    "plt.ylabel('Restaurant Index')\n",
    "plt.title('Cosine Similarity between Restaurants based on Cuisines')\n",
    "\n",
    "# Show the plot\n",
    "plt.show()"
   ]
  },
  {
   "cell_type": "code",
   "execution_count": null,
   "metadata": {},
   "outputs": [],
   "source": [
    "# Function to get restaurant recommendations\n",
    "def get_recommendations(similarity_threshold, restaurant_rating_threshold):\n",
    "\n",
    "    # Create an empty DataFrame to store recommended restaurants\n",
    "    recommendations = pd.DataFrame(columns=['Restaurant ID', 'Restaurant Name', 'City', 'Cuisines', 'Rating', 'Reviews'])\n",
    "\n",
    "    # Loop through reviews in the DataFrame\n",
    "    for index, review in reviewed_data.iterrows():\n",
    "\n",
    "        # Get restaurant indices based on name\n",
    "        name = review['Restaurant Name']\n",
    "        index_in_filteredDf = indices[name]\n",
    "\n",
    "        # Get the cosine similarity scores for the cuisine\n",
    "        sim_scores = list(enumerate(cosine_sim[index_in_filteredDf]))\n",
    "\n",
    "        # Sort the restaurants based on similarity scores\n",
    "        sim_scores = sorted(sim_scores, key=lambda x: x[1], reverse=True)\n",
    "\n",
    "        # Get the restaurant indices with high similarity\n",
    "        top_restaurant_indices = [x[0] for x in sim_scores if x[1] >= similarity_threshold]\n",
    "\n",
    "        # Get the restaurant indices with high similarity and rating greater than 3\n",
    "        top_restaurant_indices = [i for i in top_restaurant_indices if (\n",
    "            filteredDf.at[i, 'Rating'] > restaurant_rating_threshold and\n",
    "            filteredDf.at[i, 'Restaurant ID'] != review['Restaurant ID']\n",
    "        )]\n",
    "\n",
    "        # Add the recommendations to the DataFrame\n",
    "        recommendations = pd.concat([recommendations, filteredDf.iloc[top_restaurant_indices]])\n",
    "\n",
    "    # Drop duplicate rows based on 'Restaurant Name' and reset index\n",
    "    recommendations = recommendations.drop_duplicates(subset='Restaurant Name').reset_index(drop=True)\n",
    "\n",
    "    return recommendations\n",
    "\n",
    "# Get restaurant recommendations based on user reviews\n",
    "recommendations = get_recommendations(0.75, 3)\n",
    "\n",
    "# Display the recommendations\n",
    "recommendations"
   ]
  },
  {
   "cell_type": "code",
   "execution_count": null,
   "metadata": {},
   "outputs": [],
   "source": [
    "latitude = recommendations['Latitude'].tolist()\n",
    "longitude = recommendations['Longitude'].tolist()\n",
    "restaurants = recommendations['Restaurant Name'].tolist()\n",
    "ratings = recommendations['Rating'].tolist()\n",
    "\n",
    "# Center the map around the first restaurant\n",
    "map_center = [latitude[0], longitude[0]]\n",
    "\n",
    "restaurant_map = folium.Map(location=map_center, zoom_start=11)\n",
    "\n",
    "# Add markers for each restaurant\n",
    "for lat, lon, restaurant, rating in zip(latitude, longitude, restaurants, ratings):\n",
    "  folium.Marker([lat, lon], popup=f'Restaurant Name: {restaurant}\\nRating: {rating:.1f}').add_to(restaurant_map)\n",
    "\n",
    "# Display the map\n",
    "restaurant_map"
   ]
  }
 ],
 "metadata": {
  "kernelspec": {
   "display_name": "Python 3",
   "language": "python",
   "name": "python3"
  },
  "language_info": {
   "codemirror_mode": {
    "name": "ipython",
    "version": 3
   },
   "file_extension": ".py",
   "mimetype": "text/x-python",
   "name": "python",
   "nbconvert_exporter": "python",
   "pygments_lexer": "ipython3",
   "version": "3.11.5"
  }
 },
 "nbformat": 4,
 "nbformat_minor": 2
}
