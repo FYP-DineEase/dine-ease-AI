{
 "cells": [
  {
   "cell_type": "markdown",
   "metadata": {},
   "source": [
    "## **Imports**\n"
   ]
  },
  {
   "cell_type": "code",
   "execution_count": 3,
   "metadata": {},
   "outputs": [
    {
     "name": "stderr",
     "output_type": "stream",
     "text": [
      "C:\\Users\\mujta\\AppData\\Local\\Temp\\ipykernel_20948\\456781877.py:6: DeprecationWarning: \n",
      "Pyarrow will become a required dependency of pandas in the next major release of pandas (pandas 3.0),\n",
      "(to allow more performant data types, such as the Arrow string type, and better interoperability with other libraries)\n",
      "but was not found to be installed on your system.\n",
      "If this would cause problems for you,\n",
      "please provide us feedback at https://github.com/pandas-dev/pandas/issues/54466\n",
      "        \n",
      "  import pandas as pd\n"
     ]
    }
   ],
   "source": [
    "import os\n",
    "import pprint\n",
    "import asyncio\n",
    "import aiohttp\n",
    "import requests\n",
    "import pandas as pd"
   ]
  },
  {
   "cell_type": "markdown",
   "metadata": {},
   "source": [
    "## **Loading Dataset**\n"
   ]
  },
  {
   "cell_type": "code",
   "execution_count": null,
   "metadata": {},
   "outputs": [],
   "source": [
    "restaurantsDf = pd.read_csv('./data/modified_restaurants.csv', encoding='latin-1')"
   ]
  },
  {
   "cell_type": "code",
   "execution_count": null,
   "metadata": {},
   "outputs": [],
   "source": [
    "restaurantsDf = pd.DataFrame()\n",
    "reviews_file = './data/modified_reviews.csv'\n",
    "\n",
    "if os.path.exists(reviews_file):\n",
    "    reviewsDf = pd.read_csv(reviews_file, encoding='latin-1')\n",
    "else:\n",
    "    reviewsDf = pd.read_csv('./data/reviews.csv', encoding='latin-1')"
   ]
  },
  {
   "cell_type": "markdown",
   "metadata": {},
   "source": [
    "### **Start from columns where there is no DineEase Id**\n"
   ]
  },
  {
   "cell_type": "code",
   "execution_count": null,
   "metadata": {},
   "outputs": [],
   "source": [
    "if 'id' in reviewsDf.columns:\n",
    "    filteredDf = reviewsDf[reviewsDf['id'].isna()]\n",
    "else:\n",
    "    filteredDf = reviewsDf\n",
    "\n",
    "reviewsDf.head(1)\n",
    "filteredDf.head(1)"
   ]
  },
  {
   "cell_type": "markdown",
   "metadata": {},
   "source": [
    "## **Workers**\n"
   ]
  },
  {
   "cell_type": "code",
   "execution_count": null,
   "metadata": {},
   "outputs": [],
   "source": [
    "existing_users_dict = {}\n",
    "\n",
    "for index, row in pd.read_csv('./data/backup/users_backup.csv').iterrows():\n",
    "    existing_users_dict[row[\"email\"]] = row['id']"
   ]
  },
  {
   "cell_type": "code",
   "execution_count": null,
   "metadata": {},
   "outputs": [],
   "source": [
    "existing_users_dict"
   ]
  },
  {
   "cell_type": "code",
   "execution_count": null,
   "metadata": {},
   "outputs": [],
   "source": [
    "restaurants_dict = {}\n",
    "\n",
    "for index, row in restaurantsDf.iterrows():\n",
    "    restaurants_dict[row['business_id']] = row['id']"
   ]
  },
  {
   "cell_type": "code",
   "execution_count": null,
   "metadata": {},
   "outputs": [],
   "source": [
    "restaurants_dict"
   ]
  },
  {
   "cell_type": "code",
   "execution_count": null,
   "metadata": {},
   "outputs": [],
   "source": [
    "users_dict = {}\n",
    "users_backup_file = './data/backup/review_users_backup.csv'\n",
    "\n",
    "if os.path.exists(users_backup_file):\n",
    "    users_backup_df = pd.read_csv(users_backup_file)\n",
    "    \n",
    "    for index, row in users_backup_df.iterrows():\n",
    "        user_details = {\n",
    "            \"id\": row[\"id\"],\n",
    "            \"email\": row[\"email\"],\n",
    "            \"token\": row[\"token\"]\n",
    "        }\n",
    "        users_dict[row['original_id']] = user_details"
   ]
  },
  {
   "cell_type": "code",
   "execution_count": null,
   "metadata": {},
   "outputs": [],
   "source": [
    "users_dict"
   ]
  },
  {
   "cell_type": "markdown",
   "metadata": {},
   "source": [
    "### **Generate User**\n"
   ]
  },
  {
   "cell_type": "code",
   "execution_count": null,
   "metadata": {},
   "outputs": [],
   "source": [
    "# fetch random user\n",
    "def fetch_random_user():\n",
    "    response = requests.get('https://randomuser.me/api/')\n",
    "    data = response.json()\n",
    "    user_data = data['results'][0]\n",
    "    user = {\n",
    "        \"firstName\": user_data['name']['first'],\n",
    "        \"lastName\": user_data['name']['last'],\n",
    "        \"email\": user_data['email'],\n",
    "        \"password\": \"Mujtaba@123\",\n",
    "        \"role\": \"Manager\",\n",
    "    }\n",
    "    return user\n",
    "\n",
    "# insert user in the DineEase database\n",
    "def insert_user(user):  \n",
    "    response = requests.post('http://dine-ease.dev/api/auth/register', json=user)  \n",
    "    \n",
    "    if response.status_code == 201:\n",
    "        new_user_data = response.json()\n",
    "            \n",
    "        user['id'] = new_user_data['id']\n",
    "        user['token'] = new_user_data['token']\n",
    "        \n",
    "        return user\n",
    "    else:\n",
    "        print(f\"Error creating user. Status code: {response.status_code}\")\n",
    "\n",
    "# append user in dictionaries\n",
    "def create_user(user_id):\n",
    "    while True:\n",
    "        user = fetch_random_user()\n",
    "        \n",
    "        if user is None:\n",
    "            print(\"No user fetched. Retrying...\")\n",
    "            continue\n",
    "\n",
    "        if existing_users_dict.get(user['email']):\n",
    "            print(user['email'], \"is duplicated\")\n",
    "            continue\n",
    "            \n",
    "        else:\n",
    "            new_user = insert_user(user)\n",
    "            if new_user is None: continue\n",
    "            new_user['original_id'] = user_id\n",
    "            users_dict[user_id] = new_user\n",
    "            break"
   ]
  },
  {
   "cell_type": "markdown",
   "metadata": {},
   "source": [
    "### **Insert Restaurant**\n"
   ]
  },
  {
   "cell_type": "code",
   "execution_count": null,
   "metadata": {},
   "outputs": [],
   "source": [
    "async def process_restaurant(session, index, row):\n",
    "    payload = {\n",
    "        'rating': row['rating'],\n",
    "        'content': row['content'],\n",
    "        'createdAt': row['createdAt'],\n",
    "    }\n",
    "    \n",
    "    # Check if review user exists in users_dict\n",
    "    if not users_dict.get(row['user_id']):\n",
    "        create_user(row['user_id'])\n",
    "\n",
    "\n",
    "    user = users_dict.get(row['user_id'])\n",
    "    restaurantId = restaurants_dict.get(row['business_id'])\n",
    "    \n",
    "    headers = {'Authorization': 'Bearer ' + user['token'], 'Content-Type': 'application/json'}\n",
    "    \n",
    "    async with session.post(f'http://dine-ease.dev/api/review/{restaurantId}', json=payload, headers=headers) as response:\n",
    "        if response.status == 201:\n",
    "            data = await response.json()\n",
    "            \n",
    "            reviewsDf.at[index, 'slug'] = data['slug']\n",
    "            reviewsDf.at[index, 'id'] = data['id']\n",
    "            reviewsDf.at[index, 'new_user_id'] = user['id']\n",
    "            \n",
    "            reviewsDf.to_csv('./data/reviews.csv', index=False)\n",
    "            \n",
    "            users_backup_df = pd.DataFrame.from_dict({k: {\"original_id\": v[\"original_id\"], \"id\": v[\"id\"], \"email\": v[\"email\"], \"token\": v[\"token\"]} for k, v in users_dict.items()}, orient='index')\n",
    "            users_backup_df = users_backup_df[['original_id', 'id', 'email', 'token']]\n",
    "            users_backup_df.to_csv('./data/backup/review_users_backup.csv', index=False)\n",
    "            \n",
    "        else:\n",
    "            pprint.pprint(f\"Request failed for row {index + 1}. Status code: {response.status}\")\n",
    "            pprint.pprint(await response.text())"
   ]
  },
  {
   "cell_type": "code",
   "execution_count": 25,
   "metadata": {},
   "outputs": [],
   "source": [
    "async def main():\n",
    "    async with aiohttp.ClientSession() as session:\n",
    "        batch_size = 50\n",
    "        # num_batches = 20\n",
    "        for i in range(0, len(filteredDf), batch_size):\n",
    "            batch_tasks = [process_restaurant(session, index, row) for index, row in filteredDf.iloc[i:i+batch_size].iterrows()]\n",
    "            await asyncio.gather(*batch_tasks)\n",
    "            \n",
    "            # num_batches -= 1\n",
    "            # if num_batches == 0:\n",
    "            #     break\n",
    "        \n",
    "await main()"
   ]
  },
  {
   "cell_type": "code",
   "execution_count": 33,
   "metadata": {},
   "outputs": [
    {
     "name": "stdout",
     "output_type": "stream",
     "text": [
      "10 less users\n"
     ]
    },
    {
     "data": {
      "text/html": [
       "<div>\n",
       "<style scoped>\n",
       "    .dataframe tbody tr th:only-of-type {\n",
       "        vertical-align: middle;\n",
       "    }\n",
       "\n",
       "    .dataframe tbody tr th {\n",
       "        vertical-align: top;\n",
       "    }\n",
       "\n",
       "    .dataframe thead th {\n",
       "        text-align: right;\n",
       "    }\n",
       "</style>\n",
       "<table border=\"1\" class=\"dataframe\">\n",
       "  <thead>\n",
       "    <tr style=\"text-align: right;\">\n",
       "      <th></th>\n",
       "      <th>review_id</th>\n",
       "      <th>user_id</th>\n",
       "      <th>business_id</th>\n",
       "      <th>rating</th>\n",
       "      <th>content</th>\n",
       "      <th>createdAt</th>\n",
       "    </tr>\n",
       "  </thead>\n",
       "  <tbody>\n",
       "    <tr>\n",
       "      <th>271</th>\n",
       "      <td>T_x2i7uiQwIP0kq-2HsZLQ</td>\n",
       "      <td>KWLxxZKAcdUOBqBLMPW22w</td>\n",
       "      <td>-y5vYOsyL4bSFxeOtQtYbg</td>\n",
       "      <td>4.0</td>\n",
       "      <td>We love AJ's! The specialty food selections ar...</td>\n",
       "      <td>2016-04-24 02:11:38</td>\n",
       "    </tr>\n",
       "    <tr>\n",
       "      <th>618</th>\n",
       "      <td>9J5Xsa_uvf4gfVAShWd0Cw</td>\n",
       "      <td>XPSry7voMlJBXnVmWAIqdg</td>\n",
       "      <td>-Tnsc_b8dsWuAq1wQugKZA</td>\n",
       "      <td>5.0</td>\n",
       "      <td>This is still my all time favorite Mexican res...</td>\n",
       "      <td>2014-09-28 15:33:57</td>\n",
       "    </tr>\n",
       "    <tr>\n",
       "      <th>630</th>\n",
       "      <td>-t9JIsXwz36DDDa1RdOxJQ</td>\n",
       "      <td>gfQqQYI5_hCAGEHlHXIz2Q</td>\n",
       "      <td>-ATiAtTikuGuqvaW2O6tNA</td>\n",
       "      <td>5.0</td>\n",
       "      <td>I was craving a salad, but I wanted a specific...</td>\n",
       "      <td>2006-07-28 02:56:48</td>\n",
       "    </tr>\n",
       "    <tr>\n",
       "      <th>661</th>\n",
       "      <td>g8n5A0vaEK7tANxKd-uBSQ</td>\n",
       "      <td>DE2g0b3AI29F6uyx3liW9A</td>\n",
       "      <td>-sSGKR1V1oBm7BJicIXozg</td>\n",
       "      <td>1.0</td>\n",
       "      <td>I came here and left a review before but last ...</td>\n",
       "      <td>2014-02-25 07:57:27</td>\n",
       "    </tr>\n",
       "    <tr>\n",
       "      <th>692</th>\n",
       "      <td>blq2r3ruoYxKscx0qshJtw</td>\n",
       "      <td>L_MCRUtGvOOMNA3S30Nj7Q</td>\n",
       "      <td>-ATiAtTikuGuqvaW2O6tNA</td>\n",
       "      <td>4.0</td>\n",
       "      <td>Got takeout from here for lunch. I had the Hou...</td>\n",
       "      <td>2014-03-18 20:27:18</td>\n",
       "    </tr>\n",
       "    <tr>\n",
       "      <th>695</th>\n",
       "      <td>KMwsYVEKvXeiFKuBaLvGbA</td>\n",
       "      <td>adsXV8FIXhCf2Nr1plc-pA</td>\n",
       "      <td>-d8B04ueyxADRutlcHYewQ</td>\n",
       "      <td>5.0</td>\n",
       "      <td>Another great experience with Hickory Kitchen....</td>\n",
       "      <td>2018-08-27 14:16:06</td>\n",
       "    </tr>\n",
       "    <tr>\n",
       "      <th>701</th>\n",
       "      <td>B3c0NKpeEnZty6yS-CVY0Q</td>\n",
       "      <td>97-dPyCYmQBykiutyfVuWw</td>\n",
       "      <td>-ATiAtTikuGuqvaW2O6tNA</td>\n",
       "      <td>4.0</td>\n",
       "      <td>4 stars?  I know, I'm as surprised as you are....</td>\n",
       "      <td>2009-11-03 02:53:14</td>\n",
       "    </tr>\n",
       "    <tr>\n",
       "      <th>781</th>\n",
       "      <td>LkeSpkG5SfdISN4jGBP0Ww</td>\n",
       "      <td>9FIPY_flWt0JH9UNs-LkDA</td>\n",
       "      <td>-sSGKR1V1oBm7BJicIXozg</td>\n",
       "      <td>5.0</td>\n",
       "      <td>We went there about a month ago and had a bad ...</td>\n",
       "      <td>2015-06-08 22:37:49</td>\n",
       "    </tr>\n",
       "    <tr>\n",
       "      <th>934</th>\n",
       "      <td>JQvGDV248m9bNPkTWlekVA</td>\n",
       "      <td>pUNaC4U5JuY2TIoM6rsmmw</td>\n",
       "      <td>-K0zTgGyxo-AeSkcV0IVaA</td>\n",
       "      <td>5.0</td>\n",
       "      <td>Consistently  outstanding food, excellent serv...</td>\n",
       "      <td>2017-07-29 02:00:57</td>\n",
       "    </tr>\n",
       "    <tr>\n",
       "      <th>979</th>\n",
       "      <td>sp6VkLvRK4K5rYBQqjDWwA</td>\n",
       "      <td>7ctnUScX9B362qXOebNk9w</td>\n",
       "      <td>-TCa3KBib07_1ko9L2Z0fQ</td>\n",
       "      <td>5.0</td>\n",
       "      <td>Foods great. Had issues ordering online throug...</td>\n",
       "      <td>2018-09-29 16:59:36</td>\n",
       "    </tr>\n",
       "  </tbody>\n",
       "</table>\n",
       "</div>"
      ],
      "text/plain": [
       "                  review_id                 user_id             business_id  \\\n",
       "271  T_x2i7uiQwIP0kq-2HsZLQ  KWLxxZKAcdUOBqBLMPW22w  -y5vYOsyL4bSFxeOtQtYbg   \n",
       "618  9J5Xsa_uvf4gfVAShWd0Cw  XPSry7voMlJBXnVmWAIqdg  -Tnsc_b8dsWuAq1wQugKZA   \n",
       "630  -t9JIsXwz36DDDa1RdOxJQ  gfQqQYI5_hCAGEHlHXIz2Q  -ATiAtTikuGuqvaW2O6tNA   \n",
       "661  g8n5A0vaEK7tANxKd-uBSQ  DE2g0b3AI29F6uyx3liW9A  -sSGKR1V1oBm7BJicIXozg   \n",
       "692  blq2r3ruoYxKscx0qshJtw  L_MCRUtGvOOMNA3S30Nj7Q  -ATiAtTikuGuqvaW2O6tNA   \n",
       "695  KMwsYVEKvXeiFKuBaLvGbA  adsXV8FIXhCf2Nr1plc-pA  -d8B04ueyxADRutlcHYewQ   \n",
       "701  B3c0NKpeEnZty6yS-CVY0Q  97-dPyCYmQBykiutyfVuWw  -ATiAtTikuGuqvaW2O6tNA   \n",
       "781  LkeSpkG5SfdISN4jGBP0Ww  9FIPY_flWt0JH9UNs-LkDA  -sSGKR1V1oBm7BJicIXozg   \n",
       "934  JQvGDV248m9bNPkTWlekVA  pUNaC4U5JuY2TIoM6rsmmw  -K0zTgGyxo-AeSkcV0IVaA   \n",
       "979  sp6VkLvRK4K5rYBQqjDWwA  7ctnUScX9B362qXOebNk9w  -TCa3KBib07_1ko9L2Z0fQ   \n",
       "\n",
       "     rating                                            content  \\\n",
       "271     4.0  We love AJ's! The specialty food selections ar...   \n",
       "618     5.0  This is still my all time favorite Mexican res...   \n",
       "630     5.0  I was craving a salad, but I wanted a specific...   \n",
       "661     1.0  I came here and left a review before but last ...   \n",
       "692     4.0  Got takeout from here for lunch. I had the Hou...   \n",
       "695     5.0  Another great experience with Hickory Kitchen....   \n",
       "701     4.0  4 stars?  I know, I'm as surprised as you are....   \n",
       "781     5.0  We went there about a month ago and had a bad ...   \n",
       "934     5.0  Consistently  outstanding food, excellent serv...   \n",
       "979     5.0  Foods great. Had issues ordering online throug...   \n",
       "\n",
       "               createdAt  \n",
       "271  2016-04-24 02:11:38  \n",
       "618  2014-09-28 15:33:57  \n",
       "630  2006-07-28 02:56:48  \n",
       "661  2014-02-25 07:57:27  \n",
       "692  2014-03-18 20:27:18  \n",
       "695  2018-08-27 14:16:06  \n",
       "701  2009-11-03 02:53:14  \n",
       "781  2015-06-08 22:37:49  \n",
       "934  2017-07-29 02:00:57  \n",
       "979  2018-09-29 16:59:36  "
      ]
     },
     "execution_count": 33,
     "metadata": {},
     "output_type": "execute_result"
    }
   ],
   "source": [
    "duplicates_mask = reviewsDf.head(1000)['user_id'].duplicated()\n",
    "duplicates = reviewsDf.head(1000)[duplicates_mask]\n",
    "print(f'{int(len(duplicates))} less users')\n",
    "duplicates"
   ]
  }
 ],
 "metadata": {
  "kernelspec": {
   "display_name": "Python 3",
   "language": "python",
   "name": "python3"
  },
  "language_info": {
   "codemirror_mode": {
    "name": "ipython",
    "version": 3
   },
   "file_extension": ".py",
   "mimetype": "text/x-python",
   "name": "python",
   "nbconvert_exporter": "python",
   "pygments_lexer": "ipython3",
   "version": "3.11.5"
  }
 },
 "nbformat": 4,
 "nbformat_minor": 2
}
