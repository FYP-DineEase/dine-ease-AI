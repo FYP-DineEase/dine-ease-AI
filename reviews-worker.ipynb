{
 "cells": [
  {
   "cell_type": "markdown",
   "metadata": {},
   "source": [
    "## **Imports**\n"
   ]
  },
  {
   "cell_type": "code",
   "execution_count": null,
   "metadata": {},
   "outputs": [],
   "source": [
    "import os\n",
    "import pprint\n",
    "import asyncio\n",
    "import aiohttp\n",
    "import requests\n",
    "import pandas as pd"
   ]
  },
  {
   "cell_type": "markdown",
   "metadata": {},
   "source": [
    "## **Loading Dataset**\n"
   ]
  },
  {
   "cell_type": "code",
   "execution_count": null,
   "metadata": {},
   "outputs": [],
   "source": [
    "reviewsDf = pd.read_csv('./data/reviews.csv', encoding='latin-1')\n",
    "restaurantsDf = pd.read_csv('./data/registered_restaurants.csv', encoding='latin-1')\n",
    "usersDf = pd.read_csv('./data/review_users.csv', encoding='latin-1')\n",
    "\n",
    "print(f'Reviews: {len(reviewsDf)} , Restaurants: {len(restaurantsDf)} , Users: {len(usersDf)}')"
   ]
  },
  {
   "cell_type": "code",
   "execution_count": null,
   "metadata": {},
   "outputs": [],
   "source": [
    "reviewsDf.head(1)"
   ]
  },
  {
   "cell_type": "code",
   "execution_count": null,
   "metadata": {},
   "outputs": [],
   "source": [
    "restaurants_dict = {}\n",
    "\n",
    "for index, row in restaurantsDf.iterrows():\n",
    "    restaurants_dict[row[\"business_id\"]] = row[\"id\"]\n",
    "    \n",
    "len(restaurants_dict)"
   ]
  },
  {
   "cell_type": "code",
   "execution_count": null,
   "metadata": {},
   "outputs": [],
   "source": [
    "users_dict = {}\n",
    "\n",
    "grouped_reviews = reviewsDf.groupby(\"user_id\").size().reset_index(name='counts')\n",
    "for index, row in grouped_reviews.iterrows():\n",
    "    user_row = usersDf.loc[index]\n",
    "    users_dict[row['user_id']] = {\"id\": user_row[\"id\"], \"token\": user_row[\"token\"]}\n",
    "\n",
    "len(users_dict)"
   ]
  },
  {
   "cell_type": "markdown",
   "metadata": {},
   "source": [
    "### **Start from columns where there is no DineEase Id**\n"
   ]
  },
  {
   "cell_type": "code",
   "execution_count": null,
   "metadata": {},
   "outputs": [],
   "source": [
    "modified_reviews = pd.DataFrame()\n",
    "modified_reviews_file = './data/modified_reviews.csv'\n",
    "\n",
    "if os.path.exists(modified_reviews_file):\n",
    "    modified_reviews = pd.read_csv(modified_reviews_file)\n",
    "    filteredDf = reviewsDf[len(modified_reviews):]\n",
    "else:\n",
    "    filteredDf = reviewsDf\n",
    "\n",
    "print(f'Modified Reviews: {len(modified_reviews)} , Filtered Reviews: {len(filteredDf)} , Total Reviews: {len(reviewsDf)}')"
   ]
  },
  {
   "cell_type": "markdown",
   "metadata": {},
   "source": [
    "## **Workers**\n"
   ]
  },
  {
   "cell_type": "markdown",
   "metadata": {},
   "source": [
    "### **Insert Review**\n"
   ]
  },
  {
   "cell_type": "code",
   "execution_count": null,
   "metadata": {},
   "outputs": [],
   "source": [
    "async def process_review(session, index, row):\n",
    "\n",
    "    payload = {\n",
    "        'rating': row['rating'],\n",
    "        'content': row['content'],\n",
    "        'createdAt': row['createdAt'],\n",
    "    }\n",
    "    \n",
    "    user = users_dict.get(row['user_id'])\n",
    "    restaurantId = restaurants_dict.get(row['business_id'])\n",
    "    \n",
    "    headers = {'Authorization': 'Bearer ' + user['token'], 'Content-Type': 'application/json'}\n",
    "    \n",
    "    async with session.post(f'http://dine-ease.dev/api/review/{restaurantId}', json=payload, headers=headers) as response:\n",
    "        if response.status == 201:\n",
    "            data = await response.json()\n",
    "                \n",
    "            modified_reviews.at[index, 'id'] = data['id']\n",
    "            modified_reviews.at[index, 'review_id'] = row['review_id']\n",
    "            modified_reviews.at[index, 'user_id'] = user['id']\n",
    "            modified_reviews.at[index, 'restaurant_id'] = restaurantId\n",
    "            modified_reviews.at[index, 'slug'] = data['slug']\n",
    "            modified_reviews.at[index, 'rating'] = row['rating']\n",
    "            modified_reviews.at[index, 'content'] = row['content']\n",
    "            modified_reviews.at[index, 'createdAt'] = row['createdAt']\n",
    "            \n",
    "        else:\n",
    "            pprint.pprint(f\"Request failed for row {index + 1}. Status code: {response.status}\")\n",
    "            pprint.pprint(await response.text())"
   ]
  },
  {
   "cell_type": "code",
   "execution_count": null,
   "metadata": {},
   "outputs": [],
   "source": [
    "async def main():\n",
    "    async with aiohttp.ClientSession() as session:\n",
    "        batch_size = 10\n",
    "        num_batches = 1000\n",
    "        \n",
    "        for i in range(0, len(filteredDf), batch_size):\n",
    "            batch_tasks = [process_review(session, index, row) for index, row in filteredDf.iloc[i:i+batch_size].iterrows()]\n",
    "            await asyncio.gather(*batch_tasks)\n",
    "            \n",
    "            modified_reviews.to_csv(modified_reviews_file, index=False)\n",
    "            \n",
    "            num_batches -= 1\n",
    "            if num_batches == 0:\n",
    "                break\n",
    "        \n",
    "await main()"
   ]
  }
 ],
 "metadata": {
  "kernelspec": {
   "display_name": "Python 3",
   "language": "python",
   "name": "python3"
  },
  "language_info": {
   "codemirror_mode": {
    "name": "ipython",
    "version": 3
   },
   "file_extension": ".py",
   "mimetype": "text/x-python",
   "name": "python",
   "nbconvert_exporter": "python",
   "pygments_lexer": "ipython3",
   "version": "3.11.5"
  }
 },
 "nbformat": 4,
 "nbformat_minor": 2
}
