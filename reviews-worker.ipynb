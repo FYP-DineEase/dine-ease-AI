{
 "cells": [
  {
   "cell_type": "markdown",
   "metadata": {},
   "source": [
    "## **Imports**\n"
   ]
  },
  {
   "cell_type": "code",
   "execution_count": 1,
   "metadata": {},
   "outputs": [
    {
     "name": "stderr",
     "output_type": "stream",
     "text": [
      "C:\\Users\\mujta\\AppData\\Local\\Temp\\ipykernel_18196\\456781877.py:6: DeprecationWarning: \n",
      "Pyarrow will become a required dependency of pandas in the next major release of pandas (pandas 3.0),\n",
      "(to allow more performant data types, such as the Arrow string type, and better interoperability with other libraries)\n",
      "but was not found to be installed on your system.\n",
      "If this would cause problems for you,\n",
      "please provide us feedback at https://github.com/pandas-dev/pandas/issues/54466\n",
      "        \n",
      "  import pandas as pd\n"
     ]
    }
   ],
   "source": [
    "import os\n",
    "import pprint\n",
    "import asyncio\n",
    "import aiohttp\n",
    "import requests\n",
    "import pandas as pd"
   ]
  },
  {
   "cell_type": "markdown",
   "metadata": {},
   "source": [
    "## **Loading Dataset**\n"
   ]
  },
  {
   "cell_type": "code",
   "execution_count": 2,
   "metadata": {},
   "outputs": [
    {
     "name": "stdout",
     "output_type": "stream",
     "text": [
      "Reviews: 459915 , Restaurants: 5000 , Users: 293001\n"
     ]
    }
   ],
   "source": [
    "reviewsDf = pd.read_csv('./data/reviews.csv', encoding='latin-1')\n",
    "restaurantsDf = pd.read_csv('./data/registered_restaurants.csv', encoding='latin-1')\n",
    "usersDf = pd.read_csv('./data/review_users.csv', encoding='latin-1')\n",
    "\n",
    "print(f'Reviews: {len(reviewsDf)} , Restaurants: {len(restaurantsDf)} , Users: {len(usersDf)}')"
   ]
  },
  {
   "cell_type": "code",
   "execution_count": 3,
   "metadata": {},
   "outputs": [
    {
     "data": {
      "text/html": [
       "<div>\n",
       "<style scoped>\n",
       "    .dataframe tbody tr th:only-of-type {\n",
       "        vertical-align: middle;\n",
       "    }\n",
       "\n",
       "    .dataframe tbody tr th {\n",
       "        vertical-align: top;\n",
       "    }\n",
       "\n",
       "    .dataframe thead th {\n",
       "        text-align: right;\n",
       "    }\n",
       "</style>\n",
       "<table border=\"1\" class=\"dataframe\">\n",
       "  <thead>\n",
       "    <tr style=\"text-align: right;\">\n",
       "      <th></th>\n",
       "      <th>review_id</th>\n",
       "      <th>user_id</th>\n",
       "      <th>business_id</th>\n",
       "      <th>rating</th>\n",
       "      <th>content</th>\n",
       "      <th>createdAt</th>\n",
       "    </tr>\n",
       "  </thead>\n",
       "  <tbody>\n",
       "    <tr>\n",
       "      <th>0</th>\n",
       "      <td>JrIxlS1TzJ-iCu79ul40cQ</td>\n",
       "      <td>eUta8W_HdHMXPzLBBZhL1A</td>\n",
       "      <td>04UD14gamNjLY0IDYVhHJg</td>\n",
       "      <td>1.0</td>\n",
       "      <td>I am a long term frequent customer of this est...</td>\n",
       "      <td>2015-09-23 23:10:31</td>\n",
       "    </tr>\n",
       "  </tbody>\n",
       "</table>\n",
       "</div>"
      ],
      "text/plain": [
       "                review_id                 user_id             business_id  \\\n",
       "0  JrIxlS1TzJ-iCu79ul40cQ  eUta8W_HdHMXPzLBBZhL1A  04UD14gamNjLY0IDYVhHJg   \n",
       "\n",
       "   rating                                            content  \\\n",
       "0     1.0  I am a long term frequent customer of this est...   \n",
       "\n",
       "             createdAt  \n",
       "0  2015-09-23 23:10:31  "
      ]
     },
     "execution_count": 3,
     "metadata": {},
     "output_type": "execute_result"
    }
   ],
   "source": [
    "reviewsDf.head(1)"
   ]
  },
  {
   "cell_type": "code",
   "execution_count": 4,
   "metadata": {},
   "outputs": [
    {
     "data": {
      "text/plain": [
       "5000"
      ]
     },
     "execution_count": 4,
     "metadata": {},
     "output_type": "execute_result"
    }
   ],
   "source": [
    "restaurants_dict = {}\n",
    "\n",
    "for index, row in restaurantsDf.iterrows():\n",
    "    restaurants_dict[row[\"business_id\"]] = row[\"id\"]\n",
    "    \n",
    "len(restaurants_dict)"
   ]
  },
  {
   "cell_type": "code",
   "execution_count": 5,
   "metadata": {},
   "outputs": [
    {
     "data": {
      "text/plain": [
       "292250"
      ]
     },
     "execution_count": 5,
     "metadata": {},
     "output_type": "execute_result"
    }
   ],
   "source": [
    "users_dict = {}\n",
    "\n",
    "grouped_reviews = reviewsDf.groupby(\"user_id\").size().reset_index(name='counts')\n",
    "for index, row in grouped_reviews.iterrows():\n",
    "    user_row = usersDf.loc[index]\n",
    "    users_dict[row['user_id']] = {\"id\": user_row[\"id\"], \"token\": user_row[\"token\"]}\n",
    "\n",
    "len(users_dict)"
   ]
  },
  {
   "cell_type": "markdown",
   "metadata": {},
   "source": [
    "### **Start from columns where there is no DineEase Id**\n"
   ]
  },
  {
   "cell_type": "code",
   "execution_count": 6,
   "metadata": {},
   "outputs": [
    {
     "name": "stdout",
     "output_type": "stream",
     "text": [
      "Modified Reviews: 41100 , Filtered Reviews: 418815 , Total Reviews: 459915\n"
     ]
    }
   ],
   "source": [
    "modified_reviews = pd.DataFrame()\n",
    "modified_reviews_file = './data/modified_reviews.csv'\n",
    "\n",
    "if os.path.exists(modified_reviews_file):\n",
    "    modified_reviews = pd.read_csv(modified_reviews_file)\n",
    "    filteredDf = reviewsDf[len(modified_reviews):]\n",
    "else:\n",
    "    filteredDf = reviewsDf\n",
    "\n",
    "print(f'Modified Reviews: {len(modified_reviews)} , Filtered Reviews: {len(filteredDf)} , Total Reviews: {len(reviewsDf)}')"
   ]
  },
  {
   "cell_type": "markdown",
   "metadata": {},
   "source": [
    "## **Workers**\n"
   ]
  },
  {
   "cell_type": "markdown",
   "metadata": {},
   "source": [
    "### **Insert Review**\n"
   ]
  },
  {
   "cell_type": "code",
   "execution_count": 7,
   "metadata": {},
   "outputs": [],
   "source": [
    "async def process_review(session, index, row):\n",
    "\n",
    "    payload = {\n",
    "        'rating': row['rating'],\n",
    "        'content': row['content'],\n",
    "        'createdAt': row['createdAt'],\n",
    "    }\n",
    "    \n",
    "    user = users_dict.get(row['user_id'])\n",
    "    restaurantId = restaurants_dict.get(row['business_id'])\n",
    "    \n",
    "    headers = {'Authorization': 'Bearer ' + user['token'], 'Content-Type': 'application/json'}\n",
    "    \n",
    "    async with session.post(f'http://dine-ease.dev/api/review/{restaurantId}', json=payload, headers=headers) as response:\n",
    "        if response.status == 201:\n",
    "            data = await response.json()\n",
    "                \n",
    "            modified_reviews.at[index, 'id'] = data['id']\n",
    "            modified_reviews.at[index, 'review_id'] = row['review_id']\n",
    "            modified_reviews.at[index, 'user_id'] = user['id']\n",
    "            modified_reviews.at[index, 'restaurant_id'] = restaurantId\n",
    "            modified_reviews.at[index, 'slug'] = data['slug']\n",
    "            modified_reviews.at[index, 'rating'] = row['rating']\n",
    "            modified_reviews.at[index, 'content'] = row['content']\n",
    "            modified_reviews.at[index, 'createdAt'] = row['createdAt']\n",
    "            \n",
    "        else:\n",
    "            pprint.pprint(f\"Request failed for row {index + 1}. Status code: {response.status}\")\n",
    "            pprint.pprint(await response.text())"
   ]
  },
  {
   "cell_type": "code",
   "execution_count": 8,
   "metadata": {},
   "outputs": [],
   "source": [
    "async def main():\n",
    "    async with aiohttp.ClientSession() as session:\n",
    "        batch_size = 10\n",
    "        num_batches = 1000\n",
    "        \n",
    "        for i in range(0, len(filteredDf), batch_size):\n",
    "            batch_tasks = [process_review(session, index, row) for index, row in filteredDf.iloc[i:i+batch_size].iterrows()]\n",
    "            await asyncio.gather(*batch_tasks)\n",
    "            \n",
    "            modified_reviews.to_csv(modified_reviews_file, index=False)\n",
    "            \n",
    "            num_batches -= 1\n",
    "            if num_batches == 0:\n",
    "                break\n",
    "        \n",
    "await main()"
   ]
  }
 ],
 "metadata": {
  "kernelspec": {
   "display_name": "Python 3",
   "language": "python",
   "name": "python3"
  },
  "language_info": {
   "codemirror_mode": {
    "name": "ipython",
    "version": 3
   },
   "file_extension": ".py",
   "mimetype": "text/x-python",
   "name": "python",
   "nbconvert_exporter": "python",
   "pygments_lexer": "ipython3",
   "version": "3.11.5"
  }
 },
 "nbformat": 4,
 "nbformat_minor": 2
}
