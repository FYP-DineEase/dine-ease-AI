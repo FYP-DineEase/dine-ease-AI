{
 "cells": [
  {
   "cell_type": "code",
   "execution_count": 13,
   "metadata": {},
   "outputs": [],
   "source": [
    "import json\n",
    "import pandas as pd\n",
    "from nltk.sentiment.vader import SentimentIntensityAnalyzer"
   ]
  },
  {
   "cell_type": "code",
   "execution_count": 14,
   "metadata": {},
   "outputs": [
    {
     "data": {
      "text/plain": [
       "459915"
      ]
     },
     "execution_count": 14,
     "metadata": {},
     "output_type": "execute_result"
    }
   ],
   "source": [
    "reviewsDf = pd.read_csv('./data/modified_reviews.csv', encoding='latin-1')\n",
    "len(reviewsDf)"
   ]
  },
  {
   "cell_type": "code",
   "execution_count": 15,
   "metadata": {},
   "outputs": [
    {
     "data": {
      "text/html": [
       "<div>\n",
       "<style scoped>\n",
       "    .dataframe tbody tr th:only-of-type {\n",
       "        vertical-align: middle;\n",
       "    }\n",
       "\n",
       "    .dataframe tbody tr th {\n",
       "        vertical-align: top;\n",
       "    }\n",
       "\n",
       "    .dataframe thead th {\n",
       "        text-align: right;\n",
       "    }\n",
       "</style>\n",
       "<table border=\"1\" class=\"dataframe\">\n",
       "  <thead>\n",
       "    <tr style=\"text-align: right;\">\n",
       "      <th></th>\n",
       "      <th>id</th>\n",
       "      <th>review_id</th>\n",
       "      <th>user_id</th>\n",
       "      <th>restaurant_id</th>\n",
       "      <th>slug</th>\n",
       "      <th>rating</th>\n",
       "      <th>content</th>\n",
       "      <th>createdAt</th>\n",
       "    </tr>\n",
       "  </thead>\n",
       "  <tbody>\n",
       "    <tr>\n",
       "      <th>0</th>\n",
       "      <td>65eddbf4b6474deda4d94197</td>\n",
       "      <td>zM7u3iffMjniyvQAaN9Tnw</td>\n",
       "      <td>65d92f185b89ca028e45e930</td>\n",
       "      <td>65eda92ad745307cb1a957d3</td>\n",
       "      <td>nSi0NLoRHw</td>\n",
       "      <td>1.0</td>\n",
       "      <td>So disappointing on so many levels. Have been ...</td>\n",
       "      <td>2012-05-29 03:51:08</td>\n",
       "    </tr>\n",
       "  </tbody>\n",
       "</table>\n",
       "</div>"
      ],
      "text/plain": [
       "                         id               review_id                   user_id  \\\n",
       "0  65eddbf4b6474deda4d94197  zM7u3iffMjniyvQAaN9Tnw  65d92f185b89ca028e45e930   \n",
       "\n",
       "              restaurant_id        slug  rating  \\\n",
       "0  65eda92ad745307cb1a957d3  nSi0NLoRHw     1.0   \n",
       "\n",
       "                                             content            createdAt  \n",
       "0  So disappointing on so many levels. Have been ...  2012-05-29 03:51:08  "
      ]
     },
     "execution_count": 15,
     "metadata": {},
     "output_type": "execute_result"
    }
   ],
   "source": [
    "reviewsDf.head(1)"
   ]
  },
  {
   "cell_type": "code",
   "execution_count": 16,
   "metadata": {},
   "outputs": [],
   "source": [
    "sid = SentimentIntensityAnalyzer()"
   ]
  },
  {
   "cell_type": "code",
   "execution_count": 17,
   "metadata": {},
   "outputs": [],
   "source": [
    "def sentiment_analysis(sentence):\n",
    "    scores = sid.polarity_scores(sentence)\n",
    "\n",
    "    if scores['compound'] >= 0.5:\n",
    "        label = 'positive'\n",
    "    elif scores['compound'] <= -0.5:\n",
    "        label = 'negative'\n",
    "    else:\n",
    "        label = 'neutral'\n",
    "    \n",
    "    return {'label': label, 'score': scores['compound']}"
   ]
  },
  {
   "cell_type": "code",
   "execution_count": 18,
   "metadata": {},
   "outputs": [],
   "source": [
    "result_array = []\n",
    "\n",
    "for index, row in reviewsDf.iterrows():\n",
    "\n",
    "    analysis = sentiment_analysis(row['content'])    \n",
    "    reviewsDf.at[index, 'sentiment'] = analysis['label']\n",
    "    result_array.append({ 'id': row['id'], 'sentiment': analysis['label']})"
   ]
  },
  {
   "cell_type": "code",
   "execution_count": 19,
   "metadata": {},
   "outputs": [
    {
     "data": {
      "text/html": [
       "<div>\n",
       "<style scoped>\n",
       "    .dataframe tbody tr th:only-of-type {\n",
       "        vertical-align: middle;\n",
       "    }\n",
       "\n",
       "    .dataframe tbody tr th {\n",
       "        vertical-align: top;\n",
       "    }\n",
       "\n",
       "    .dataframe thead th {\n",
       "        text-align: right;\n",
       "    }\n",
       "</style>\n",
       "<table border=\"1\" class=\"dataframe\">\n",
       "  <thead>\n",
       "    <tr style=\"text-align: right;\">\n",
       "      <th></th>\n",
       "      <th>id</th>\n",
       "      <th>review_id</th>\n",
       "      <th>user_id</th>\n",
       "      <th>restaurant_id</th>\n",
       "      <th>slug</th>\n",
       "      <th>rating</th>\n",
       "      <th>content</th>\n",
       "      <th>createdAt</th>\n",
       "      <th>sentiment</th>\n",
       "    </tr>\n",
       "  </thead>\n",
       "  <tbody>\n",
       "    <tr>\n",
       "      <th>0</th>\n",
       "      <td>65eddbf4b6474deda4d94197</td>\n",
       "      <td>zM7u3iffMjniyvQAaN9Tnw</td>\n",
       "      <td>65d92f185b89ca028e45e930</td>\n",
       "      <td>65eda92ad745307cb1a957d3</td>\n",
       "      <td>nSi0NLoRHw</td>\n",
       "      <td>1.0</td>\n",
       "      <td>So disappointing on so many levels. Have been ...</td>\n",
       "      <td>2012-05-29 03:51:08</td>\n",
       "      <td>neutral</td>\n",
       "    </tr>\n",
       "  </tbody>\n",
       "</table>\n",
       "</div>"
      ],
      "text/plain": [
       "                         id               review_id                   user_id  \\\n",
       "0  65eddbf4b6474deda4d94197  zM7u3iffMjniyvQAaN9Tnw  65d92f185b89ca028e45e930   \n",
       "\n",
       "              restaurant_id        slug  rating  \\\n",
       "0  65eda92ad745307cb1a957d3  nSi0NLoRHw     1.0   \n",
       "\n",
       "                                             content            createdAt  \\\n",
       "0  So disappointing on so many levels. Have been ...  2012-05-29 03:51:08   \n",
       "\n",
       "  sentiment  \n",
       "0   neutral  "
      ]
     },
     "execution_count": 19,
     "metadata": {},
     "output_type": "execute_result"
    }
   ],
   "source": [
    "reviewsDf.head(1)"
   ]
  },
  {
   "cell_type": "code",
   "execution_count": 20,
   "metadata": {},
   "outputs": [
    {
     "name": "stdout",
     "output_type": "stream",
     "text": [
      "JSON file created successfully: data.json\n"
     ]
    }
   ],
   "source": [
    "file_path = \"data.json\"\n",
    "\n",
    "with open(file_path, 'w') as json_file:\n",
    "    json.dump(result_array, json_file)\n",
    "\n",
    "print(\"JSON file created successfully:\", file_path)"
   ]
  },
  {
   "cell_type": "code",
   "execution_count": 21,
   "metadata": {},
   "outputs": [],
   "source": [
    "reviewsDf.to_csv('./data/labelled_reviews.csv', index=False)"
   ]
  }
 ],
 "metadata": {
  "kernelspec": {
   "display_name": "Python 3",
   "language": "python",
   "name": "python3"
  },
  "language_info": {
   "codemirror_mode": {
    "name": "ipython",
    "version": 3
   },
   "file_extension": ".py",
   "mimetype": "text/x-python",
   "name": "python",
   "nbconvert_exporter": "python",
   "pygments_lexer": "ipython3",
   "version": "3.11.5"
  }
 },
 "nbformat": 4,
 "nbformat_minor": 2
}
