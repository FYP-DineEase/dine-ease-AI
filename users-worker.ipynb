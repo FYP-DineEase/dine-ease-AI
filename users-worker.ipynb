{
 "cells": [
  {
   "cell_type": "markdown",
   "metadata": {},
   "source": [
    "## **Imports**\n"
   ]
  },
  {
   "cell_type": "code",
   "execution_count": null,
   "metadata": {},
   "outputs": [],
   "source": [
    "import os\n",
    "import asyncio\n",
    "import aiohttp\n",
    "import pandas as pd"
   ]
  },
  {
   "cell_type": "markdown",
   "metadata": {},
   "source": [
    "## **Required Users**\n"
   ]
  },
  {
   "cell_type": "code",
   "execution_count": null,
   "metadata": {},
   "outputs": [],
   "source": [
    "# reviews_users = pd.read_csv('./data/reviews.csv', encoding='latin-1').groupby('user_id')\n",
    "# len(reviews_users)"
   ]
  },
  {
   "cell_type": "code",
   "execution_count": null,
   "metadata": {},
   "outputs": [],
   "source": [
    "# restaurant_users = pd.read_csv('./data/restaurants.csv', encoding='latin-1').head(10000).groupby('name')\n",
    "# len(restaurant_users)"
   ]
  },
  {
   "cell_type": "code",
   "execution_count": null,
   "metadata": {},
   "outputs": [],
   "source": [
    "# print(f'Total Users Required: {len(restaurant_users) + len(reviews_users)}')"
   ]
  },
  {
   "cell_type": "markdown",
   "metadata": {},
   "source": [
    "## **Workers**\n"
   ]
  },
  {
   "cell_type": "code",
   "execution_count": null,
   "metadata": {},
   "outputs": [],
   "source": [
    "users_dict = {}\n",
    "users_df = pd.DataFrame()"
   ]
  },
  {
   "cell_type": "code",
   "execution_count": null,
   "metadata": {},
   "outputs": [],
   "source": [
    "users_file = './data/users.csv'\n",
    "\n",
    "if os.path.exists(users_file):\n",
    "    users_df = pd.read_csv(users_file)\n",
    "    \n",
    "    for index, row in users_df.iterrows():\n",
    "        user_details = {   \n",
    "            \"firstName\": row[\"firstName\"],\n",
    "            \"lastName\": row[\"lastName\"],\n",
    "            \"email\": row[\"email\"]\n",
    "        }\n",
    "        users_dict[row[\"email\"]] = user_details"
   ]
  },
  {
   "cell_type": "markdown",
   "metadata": {},
   "source": [
    "### **Validate User**\n"
   ]
  },
  {
   "cell_type": "code",
   "execution_count": null,
   "metadata": {},
   "outputs": [],
   "source": [
    "async def validate_user(user):    \n",
    "    if user is None:\n",
    "        print(\"No user fetched. Retrying...\")\n",
    "        return\n",
    "        \n",
    "    email = user['email']\n",
    "            \n",
    "    if email in users_dict:\n",
    "        print(email, \"is duplicated\")\n",
    "        return\n",
    "            \n",
    "    else:\n",
    "        users_dict[email] = user"
   ]
  },
  {
   "cell_type": "markdown",
   "metadata": {},
   "source": [
    "### **Generate User**\n"
   ]
  },
  {
   "cell_type": "markdown",
   "metadata": {},
   "source": [
    "#### **Radom User Api**\n"
   ]
  },
  {
   "cell_type": "code",
   "execution_count": null,
   "metadata": {},
   "outputs": [],
   "source": [
    "async def fetch_random_user(session):\n",
    "    async with session.get('https://randomuser.me/api/?inc=name,email&nat=us,gb,ca,ie,nz,au,fi,ie&results=5000') as response:\n",
    "        data = await response.json()\n",
    "        results = data['results']\n",
    "        for user_data in results:\n",
    "            user = {\n",
    "                \"firstName\": user_data['name']['first'],\n",
    "                \"lastName\": user_data['name']['last'],\n",
    "                \"email\": user_data['email'],\n",
    "            }\n",
    "            await validate_user(user)"
   ]
  },
  {
   "cell_type": "markdown",
   "metadata": {},
   "source": [
    "#### **Radom Data User Api**\n"
   ]
  },
  {
   "cell_type": "code",
   "execution_count": null,
   "metadata": {},
   "outputs": [],
   "source": [
    "async def fetch_random_data_user(session):\n",
    "    async with session.get('https://random-data-api.com/api/v2/users?size=100') as response:\n",
    "        data = await response.json()\n",
    "        for user_data in data:\n",
    "            user = {\n",
    "                \"firstName\": user_data['first_name'],\n",
    "                \"lastName\": user_data['last_name'],\n",
    "                \"email\": user_data['email'],\n",
    "            }\n",
    "            await validate_user(user)"
   ]
  },
  {
   "cell_type": "code",
   "execution_count": null,
   "metadata": {},
   "outputs": [],
   "source": [
    "async def main():\n",
    "    iterations = 100\n",
    "    async with aiohttp.ClientSession() as session:\n",
    "        tasks = []\n",
    "        for _ in range(iterations):\n",
    "            tasks.append(fetch_random_data_user(session))\n",
    "        await asyncio.gather(*tasks)\n",
    "\n",
    "await main()"
   ]
  },
  {
   "cell_type": "code",
   "execution_count": null,
   "metadata": {},
   "outputs": [],
   "source": [
    "# async def main():\n",
    "#     iterations = 1\n",
    "#     async with aiohttp.ClientSession() as session:\n",
    "#         for _ in range(iterations):\n",
    "#             await fetch_random_user(session)\n",
    "\n",
    "# await main()"
   ]
  },
  {
   "cell_type": "code",
   "execution_count": null,
   "metadata": {},
   "outputs": [],
   "source": [
    "users_df = pd.DataFrame.from_dict(users_dict, orient='index')\n",
    "users_df = users_df[['firstName', 'lastName', 'email']]\n",
    "users_df.to_csv('./data/users.csv', index=False)"
   ]
  },
  {
   "cell_type": "code",
   "execution_count": null,
   "metadata": {},
   "outputs": [],
   "source": [
    "duplicates_df = users_df[users_df.duplicated(subset=['email'], keep=False)]\n",
    "duplicates_df"
   ]
  }
 ],
 "metadata": {
  "kernelspec": {
   "display_name": "Python 3",
   "language": "python",
   "name": "python3"
  },
  "language_info": {
   "codemirror_mode": {
    "name": "ipython",
    "version": 3
   },
   "file_extension": ".py",
   "mimetype": "text/x-python",
   "name": "python",
   "nbconvert_exporter": "python",
   "pygments_lexer": "ipython3",
   "version": "3.11.5"
  }
 },
 "nbformat": 4,
 "nbformat_minor": 2
}
