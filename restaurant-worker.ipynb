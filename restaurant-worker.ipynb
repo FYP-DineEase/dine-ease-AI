{
 "cells": [
  {
   "cell_type": "markdown",
   "metadata": {},
   "source": [
    "## **Imports**\n"
   ]
  },
  {
   "cell_type": "code",
   "execution_count": 1,
   "metadata": {},
   "outputs": [
    {
     "name": "stderr",
     "output_type": "stream",
     "text": [
      "C:\\Users\\mujta\\AppData\\Local\\Temp\\ipykernel_1376\\456781877.py:6: DeprecationWarning: \n",
      "Pyarrow will become a required dependency of pandas in the next major release of pandas (pandas 3.0),\n",
      "(to allow more performant data types, such as the Arrow string type, and better interoperability with other libraries)\n",
      "but was not found to be installed on your system.\n",
      "If this would cause problems for you,\n",
      "please provide us feedback at https://github.com/pandas-dev/pandas/issues/54466\n",
      "        \n",
      "  import pandas as pd\n"
     ]
    }
   ],
   "source": [
    "import os\n",
    "import pprint\n",
    "import asyncio\n",
    "import aiohttp\n",
    "import requests\n",
    "import pandas as pd"
   ]
  },
  {
   "cell_type": "markdown",
   "metadata": {},
   "source": [
    "## **Loading Dataset**\n"
   ]
  },
  {
   "cell_type": "code",
   "execution_count": 2,
   "metadata": {},
   "outputs": [],
   "source": [
    "restaurantsDf = pd.read_csv('./data/restaurants.csv', encoding='latin-1')"
   ]
  },
  {
   "cell_type": "code",
   "execution_count": 3,
   "metadata": {},
   "outputs": [],
   "source": [
    "restaurantsDf = restaurantsDf.head(10000)"
   ]
  },
  {
   "cell_type": "markdown",
   "metadata": {},
   "source": [
    "### **Start from columns where there is no DineEase Id**"
   ]
  },
  {
   "cell_type": "code",
   "execution_count": 4,
   "metadata": {},
   "outputs": [
    {
     "data": {
      "text/html": [
       "<div>\n",
       "<style scoped>\n",
       "    .dataframe tbody tr th:only-of-type {\n",
       "        vertical-align: middle;\n",
       "    }\n",
       "\n",
       "    .dataframe tbody tr th {\n",
       "        vertical-align: top;\n",
       "    }\n",
       "\n",
       "    .dataframe thead th {\n",
       "        text-align: right;\n",
       "    }\n",
       "</style>\n",
       "<table border=\"1\" class=\"dataframe\">\n",
       "  <thead>\n",
       "    <tr style=\"text-align: right;\">\n",
       "      <th></th>\n",
       "      <th>business_id</th>\n",
       "      <th>address</th>\n",
       "      <th>city</th>\n",
       "      <th>latitude</th>\n",
       "      <th>longitude</th>\n",
       "      <th>name</th>\n",
       "      <th>rating</th>\n",
       "      <th>review_count</th>\n",
       "      <th>categories</th>\n",
       "    </tr>\n",
       "  </thead>\n",
       "  <tbody>\n",
       "    <tr>\n",
       "      <th>0</th>\n",
       "      <td>---kPU91CF4Lq2-WlRu9Lw</td>\n",
       "      <td>4903 State Rd 54</td>\n",
       "      <td>New Port Richey</td>\n",
       "      <td>28.217288</td>\n",
       "      <td>-82.733344</td>\n",
       "      <td>Frankie's Raw Bar</td>\n",
       "      <td>4.5</td>\n",
       "      <td>24</td>\n",
       "      <td>Seafood, Latin American</td>\n",
       "    </tr>\n",
       "  </tbody>\n",
       "</table>\n",
       "</div>"
      ],
      "text/plain": [
       "              business_id           address             city   latitude  \\\n",
       "0  ---kPU91CF4Lq2-WlRu9Lw  4903 State Rd 54  New Port Richey  28.217288   \n",
       "\n",
       "   longitude               name  rating  review_count               categories  \n",
       "0 -82.733344  Frankie's Raw Bar     4.5            24  Seafood, Latin American  "
      ]
     },
     "execution_count": 4,
     "metadata": {},
     "output_type": "execute_result"
    }
   ],
   "source": [
    "if 'id' in restaurantsDf.columns:\n",
    "    filteredDf = restaurantsDf[restaurantsDf['id'].isna()]\n",
    "else:\n",
    "    filteredDf = restaurantsDf\n",
    "\n",
    "# Display the DataFrame\n",
    "filteredDf.head(1)"
   ]
  },
  {
   "cell_type": "markdown",
   "metadata": {},
   "source": [
    "## **Workers**\n"
   ]
  },
  {
   "cell_type": "markdown",
   "metadata": {},
   "source": [
    "### **Generate User**"
   ]
  },
  {
   "cell_type": "code",
   "execution_count": 5,
   "metadata": {},
   "outputs": [],
   "source": [
    "users_backup_file = './data/backup/users_backup.csv'\n",
    "users_dict = {}\n",
    "\n",
    "if os.path.exists(users_backup_file):\n",
    "    users_backup_df = pd.read_csv(users_backup_file)\n",
    "\n",
    "    \n",
    "    for index, row in users_backup_df.iterrows():\n",
    "        user_details = {\n",
    "            \"id\": row[\"id\"],\n",
    "            \"email\": row[\"email\"],\n",
    "            \"token\": row[\"token\"]\n",
    "        }\n",
    "        users_dict[row[\"email\"]] = user_details"
   ]
  },
  {
   "cell_type": "code",
   "execution_count": 6,
   "metadata": {},
   "outputs": [],
   "source": [
    "restaurant_backup_file = './data/backup/restaurants_backup.csv'\n",
    "\n",
    "if os.path.exists(restaurant_backup_file):\n",
    "    restaurant_backup_df = pd.read_csv(restaurant_backup_file)\n",
    "    restaurants_dict = dict(zip(restaurant_backup_df['restaurant_name'], restaurant_backup_df['owner']))\n",
    "else:\n",
    "    restaurants_dict = {}"
   ]
  },
  {
   "cell_type": "code",
   "execution_count": 7,
   "metadata": {},
   "outputs": [],
   "source": [
    "# fetch random user\n",
    "def fetch_random_user():\n",
    "    response = requests.get('https://randomuser.me/api/')\n",
    "    data = response.json()\n",
    "    user_data = data['results'][0]\n",
    "    user = {\n",
    "        \"firstName\": user_data['name']['first'],\n",
    "        \"lastName\": user_data['name']['last'],\n",
    "        \"email\": user_data['email'],\n",
    "        \"password\": \"Mujtaba@123\",\n",
    "        \"role\": \"Manager\",\n",
    "    }\n",
    "    return user\n",
    "\n",
    "\n",
    "# insert user in the DineEase database\n",
    "async def insert_user(session, user):  \n",
    "    async with session.post('http://dine-ease.dev/api/auth/register', json=user) as response:  \n",
    "    \n",
    "        if response.status == 201:\n",
    "            new_user_data = await response.json()\n",
    "            \n",
    "            user['id'] = new_user_data['id']\n",
    "            user['token'] = new_user_data['token']\n",
    "        \n",
    "            return user\n",
    "        else:\n",
    "            print(f\"Error creating user. Status code: {response.status}\")\n",
    "\n",
    "\n",
    "# append user in dictionaries\n",
    "async def create_user(session, restaurant_name):\n",
    "    while True:\n",
    "        user = fetch_random_user()\n",
    "        \n",
    "        if user is None:\n",
    "            print(\"No user fetched. Retrying...\")\n",
    "            continue\n",
    "\n",
    "        email = user['email']\n",
    "\n",
    "        if users_dict.get(email):\n",
    "            print(email, \"is duplicated\")\n",
    "            continue\n",
    "            \n",
    "        else:\n",
    "            new_user =  await insert_user(session, user)\n",
    "            print(new_user)\n",
    "            users_dict[email] = new_user\n",
    "            restaurants_dict[restaurant_name] = email\n",
    "            break"
   ]
  },
  {
   "cell_type": "code",
   "execution_count": 8,
   "metadata": {},
   "outputs": [
    {
     "name": "stdout",
     "output_type": "stream",
     "text": [
      "[]\n"
     ]
    }
   ],
   "source": [
    "pprint.pprint(list(users_dict.values())[-2:])"
   ]
  },
  {
   "cell_type": "code",
   "execution_count": 9,
   "metadata": {},
   "outputs": [
    {
     "name": "stdout",
     "output_type": "stream",
     "text": [
      "[]\n"
     ]
    }
   ],
   "source": [
    "pprint.pprint(list(restaurants_dict.items())[-2:])"
   ]
  },
  {
   "cell_type": "markdown",
   "metadata": {},
   "source": [
    "### **Insert Restaurant**"
   ]
  },
  {
   "cell_type": "code",
   "execution_count": 10,
   "metadata": {},
   "outputs": [],
   "source": [
    "async def process_restaurant(session, index, row):\n",
    "    payload = {\n",
    "        'name': row['name'],\n",
    "        'taxId': str(index).zfill(13),\n",
    "        'categories': [row['categories']],\n",
    "        'address': row['address'],\n",
    "        'location': {\n",
    "            'coordinates': [row['longitude'], row['latitude']],\n",
    "            'country': row['city'],\n",
    "        },\n",
    "    }\n",
    "    \n",
    "    # Check if restaurant_owner exists in users_dict\n",
    "    if not restaurants_dict.get(row['name']):\n",
    "        await create_user(session, row['name'])\n",
    "\n",
    "    user = users_dict.get(restaurants_dict.get(row['name']))\n",
    "    headers = {'Authorization': 'Bearer ' + user['token'], 'Content-Type': 'application/json'}\n",
    "\n",
    "    async with session.post('http://dine-ease.dev/api/restaurant', json=payload, headers=headers) as response:\n",
    "        if response.status == 201:\n",
    "            data = await response.json()\n",
    "            restaurantsDf.at[index, 'slug'] = data['slug']\n",
    "            restaurantsDf.at[index, 'id'] = data['id']\n",
    "            restaurantsDf.at[index, 'userId'] = user['id']\n",
    "        else:\n",
    "            pprint.pprint(f\"Request failed for row {index + 1}. Status code: {response.status}\")\n",
    "            pprint.pprint(await response.text())"
   ]
  },
  {
   "cell_type": "code",
   "execution_count": 11,
   "metadata": {},
   "outputs": [],
   "source": [
    "async def main():\n",
    "    async with aiohttp.ClientSession() as session:\n",
    "        tasks = [process_restaurant(session, index, row) for index, row in filteredDf.iloc[:500].iterrows()]\n",
    "        await asyncio.gather(*tasks)\n",
    "\n",
    "await main()"
   ]
  },
  {
   "cell_type": "code",
   "execution_count": 12,
   "metadata": {},
   "outputs": [],
   "source": [
    "# # for index, row in restaurantsDf.iterrows():\n",
    "# for index, row in filteredDf.iterrows():\n",
    "    \n",
    "#     payload = {\n",
    "#         'name': row['name'],\n",
    "#         'taxId': str(index).zfill(13),\n",
    "#         'categories': [row['categories']],\n",
    "#         'address': row['address'],\n",
    "#         'location': {\n",
    "#             'coordinates': [row['longitude'], row['latitude']],\n",
    "#             'country': row['city'],\n",
    "#         },\n",
    "#     }\n",
    "    \n",
    "#     # Check if restaurant_owner exists in users_dict\n",
    "#     if not restaurants_dict.get(row['name']):\n",
    "#         create_user(row['name'])\n",
    "    \n",
    "#     user = users_dict.get(restaurants_dict.get(row['name']))\n",
    "    \n",
    "#     headers = { 'Authorization': 'Bearer ' + user['token'], 'Content-Type': 'application/json'}\n",
    "#     response = requests.post('http://dine-ease.dev/api/restaurant', json=payload, headers=headers)\n",
    "    \n",
    "#     if response.status_code == 201:\n",
    "#         data = response.json()\n",
    "        \n",
    "#         restaurantsDf.at[index, 'slug'] =  data['slug']\n",
    "#         restaurantsDf.at[index, 'id'] = data['id']\n",
    "#         restaurantsDf.at[index, 'userId'] = user['id']\n",
    "        \n",
    "#     else:\n",
    "#         pprint.pprint(response.text)\n",
    "#         print(f\"Request failed for row {index + 1}. Status code: {response.status_code}\")\n",
    "#         break"
   ]
  },
  {
   "cell_type": "markdown",
   "metadata": {},
   "source": [
    "### **Create backup incase of ERROR, hence code will continue from failure point**"
   ]
  },
  {
   "cell_type": "code",
   "execution_count": 16,
   "metadata": {},
   "outputs": [],
   "source": [
    "# restaurantsDf.to_csv('./data/modified_restaurants.csv', index=False)"
   ]
  },
  {
   "cell_type": "code",
   "execution_count": 17,
   "metadata": {},
   "outputs": [],
   "source": [
    "# # Create backup incase of ERROR, hence code will continue from failure point\n",
    "# restuarant_backup_df = pd.DataFrame.from_dict({\"restaurant_name\": list(restaurants_dict.keys()), \"owner\": list(restaurants_dict.values())})\n",
    "# restuarant_backup_df.to_csv('./data/backup/restaurants_backup.csv', index=False)"
   ]
  },
  {
   "cell_type": "code",
   "execution_count": 18,
   "metadata": {},
   "outputs": [],
   "source": [
    "# users_backup_df = pd.DataFrame.from_dict({k: {\"id\": v[\"id\"], \"email\": v[\"email\"], \"token\": v[\"token\"]} for k, v in users_dict.items()}, orient='index')\n",
    "# users_backup_df = users_backup_df[['id', 'email', 'token']]\n",
    "# users_backup_df.to_csv('./data/backup/users_backup.csv', index=False)"
   ]
  }
 ],
 "metadata": {
  "kernelspec": {
   "display_name": "Python 3",
   "language": "python",
   "name": "python3"
  },
  "language_info": {
   "codemirror_mode": {
    "name": "ipython",
    "version": 3
   },
   "file_extension": ".py",
   "mimetype": "text/x-python",
   "name": "python",
   "nbconvert_exporter": "python",
   "pygments_lexer": "ipython3",
   "version": "3.11.5"
  }
 },
 "nbformat": 4,
 "nbformat_minor": 2
}
